{
  "nbformat": 4,
  "nbformat_minor": 0,
  "metadata": {
    "colab": {
      "name": "python_string_basics.ipynb",
      "provenance": [],
      "toc_visible": true
    },
    "kernelspec": {
      "name": "python3",
      "display_name": "Python 3"
    }
  },
  "cells": [
    {
      "cell_type": "markdown",
      "metadata": {
        "id": "1QnC5XWWfust"
      },
      "source": [
        "# Python String"
      ]
    },
    {
      "cell_type": "markdown",
      "metadata": {
        "id": "3wtd-HWfgJYc"
      },
      "source": [
        "## String Declaration"
      ]
    },
    {
      "cell_type": "markdown",
      "metadata": {
        "id": "4x2IhcBkbT71"
      },
      "source": [
        "**str** (string; a sequence of characters enclosed in single quotes, double quotes, or triple quotes)\n",
        "\n",
        "- 'this is a string using single quotes'\n",
        "- \"this is a string using double quotes\"\n",
        "- '''this is a triple quoted string using single quotes'''\n",
        "- \"\"\"this is a triple quoted string using double quotes\"\"\""
      ]
    },
    {
      "cell_type": "code",
      "metadata": {
        "colab": {
          "base_uri": "https://localhost:8080/"
        },
        "id": "FMh0pWHugTUN",
        "outputId": "f9860b3d-a220-4ccb-83ee-1c866f4ea408"
      },
      "source": [
        "string1 = 'this is a string using single quotes'\n",
        "print(string1)"
      ],
      "execution_count": 1,
      "outputs": [
        {
          "output_type": "stream",
          "text": [
            "this is a string using single quotes\n"
          ],
          "name": "stdout"
        }
      ]
    },
    {
      "cell_type": "code",
      "metadata": {
        "colab": {
          "base_uri": "https://localhost:8080/"
        },
        "id": "qmUrkkv-ggXV",
        "outputId": "79a969b4-180f-415c-ad03-c343131f7361"
      },
      "source": [
        "string2 = \"this is a string using double quotes\"\n",
        "print(string2)"
      ],
      "execution_count": 2,
      "outputs": [
        {
          "output_type": "stream",
          "text": [
            "this is a string using double quotes\n"
          ],
          "name": "stdout"
        }
      ]
    },
    {
      "cell_type": "code",
      "metadata": {
        "colab": {
          "base_uri": "https://localhost:8080/"
        },
        "id": "f6fd8wBHgmPU",
        "outputId": "12e580ca-e39a-436f-df25-ec2c209450b5"
      },
      "source": [
        "string3 = '''this is a triple quoted string using single quotes'''\n",
        "print(string3)"
      ],
      "execution_count": 3,
      "outputs": [
        {
          "output_type": "stream",
          "text": [
            "this is a triple quoted string using single quotes\n"
          ],
          "name": "stdout"
        }
      ]
    },
    {
      "cell_type": "code",
      "metadata": {
        "id": "ayignEyOgtLN"
      },
      "source": [
        "string4 = \"\"\"this is a triple quoted string using double quotes\"\"\""
      ],
      "execution_count": 4,
      "outputs": []
    },
    {
      "cell_type": "markdown",
      "metadata": {
        "id": "KdHXfrG6g29b"
      },
      "source": [
        "## Operators on String"
      ]
    },
    {
      "cell_type": "markdown",
      "metadata": {
        "id": "oKFHL2SKhEhM"
      },
      "source": [
        "Assign some strings to different variables"
      ]
    },
    {
      "cell_type": "code",
      "metadata": {
        "id": "JnpbZvshbg_s"
      },
      "source": [
        "simple_string1 = 'an example'\n",
        "simple_string2 = \"oranges \""
      ],
      "execution_count": 5,
      "outputs": []
    },
    {
      "cell_type": "markdown",
      "metadata": {
        "id": "q6j9ZsCWhG_M"
      },
      "source": [
        "Addition"
      ]
    },
    {
      "cell_type": "code",
      "metadata": {
        "id": "mObyMZmDbjZs",
        "colab": {
          "base_uri": "https://localhost:8080/",
          "height": 35
        },
        "outputId": "7c000d17-f60d-406f-be2e-f70cf50554b2"
      },
      "source": [
        "simple_string1 + ' of using the + operator'"
      ],
      "execution_count": 6,
      "outputs": [
        {
          "output_type": "execute_result",
          "data": {
            "application/vnd.google.colaboratory.intrinsic+json": {
              "type": "string"
            },
            "text/plain": [
              "'an example of using the + operator'"
            ]
          },
          "metadata": {
            "tags": []
          },
          "execution_count": 6
        }
      ]
    },
    {
      "cell_type": "markdown",
      "metadata": {
        "id": "hJ3Jkw9zhKg1"
      },
      "source": [
        "Notice that the string was not modified"
      ]
    },
    {
      "cell_type": "code",
      "metadata": {
        "id": "qLqgdgc8bmxk",
        "colab": {
          "base_uri": "https://localhost:8080/",
          "height": 35
        },
        "outputId": "08a22a50-928c-4ab2-a3e2-6c559ba8afd5"
      },
      "source": [
        "simple_string1"
      ],
      "execution_count": 7,
      "outputs": [
        {
          "output_type": "execute_result",
          "data": {
            "application/vnd.google.colaboratory.intrinsic+json": {
              "type": "string"
            },
            "text/plain": [
              "'an example'"
            ]
          },
          "metadata": {
            "tags": []
          },
          "execution_count": 7
        }
      ]
    },
    {
      "cell_type": "markdown",
      "metadata": {
        "id": "RT9cKkRuhNH8"
      },
      "source": [
        "Multiplication"
      ]
    },
    {
      "cell_type": "code",
      "metadata": {
        "id": "nD6dVGXZbpxV",
        "colab": {
          "base_uri": "https://localhost:8080/",
          "height": 35
        },
        "outputId": "7b16e552-cb4d-428c-bf3a-c6505037df75"
      },
      "source": [
        "simple_string2 * 4"
      ],
      "execution_count": 8,
      "outputs": [
        {
          "output_type": "execute_result",
          "data": {
            "application/vnd.google.colaboratory.intrinsic+json": {
              "type": "string"
            },
            "text/plain": [
              "'oranges oranges oranges oranges '"
            ]
          },
          "metadata": {
            "tags": []
          },
          "execution_count": 8
        }
      ]
    },
    {
      "cell_type": "markdown",
      "metadata": {
        "id": "gtdC7Bd2hP1E"
      },
      "source": [
        "This string wasn't modified either"
      ]
    },
    {
      "cell_type": "code",
      "metadata": {
        "id": "Y_wXyt46bt8r",
        "colab": {
          "base_uri": "https://localhost:8080/",
          "height": 35
        },
        "outputId": "4424f86c-cf76-4e9a-de9f-afb5987563ce"
      },
      "source": [
        "simple_string2"
      ],
      "execution_count": 9,
      "outputs": [
        {
          "output_type": "execute_result",
          "data": {
            "application/vnd.google.colaboratory.intrinsic+json": {
              "type": "string"
            },
            "text/plain": [
              "'oranges '"
            ]
          },
          "metadata": {
            "tags": []
          },
          "execution_count": 9
        }
      ]
    },
    {
      "cell_type": "markdown",
      "metadata": {
        "id": "6I5gZJARhUaY"
      },
      "source": [
        "Are these two expressions equal to each other?"
      ]
    },
    {
      "cell_type": "code",
      "metadata": {
        "id": "D1Fqpl0-bv_E",
        "colab": {
          "base_uri": "https://localhost:8080/"
        },
        "outputId": "546ba0cf-f045-4096-b656-b14299c61ef6"
      },
      "source": [
        "simple_string1 == simple_string2"
      ],
      "execution_count": 10,
      "outputs": [
        {
          "output_type": "execute_result",
          "data": {
            "text/plain": [
              "False"
            ]
          },
          "metadata": {
            "tags": []
          },
          "execution_count": 10
        }
      ]
    },
    {
      "cell_type": "markdown",
      "metadata": {
        "id": "x9Qg4wtjhgIj"
      },
      "source": [
        "Are these two expressions equal to each other?"
      ]
    },
    {
      "cell_type": "code",
      "metadata": {
        "id": "qsaRTHYmbyCL",
        "colab": {
          "base_uri": "https://localhost:8080/"
        },
        "outputId": "f6a9b989-b3d4-4083-951c-28ef81700c39"
      },
      "source": [
        "simple_string1 == 'an example'"
      ],
      "execution_count": 11,
      "outputs": [
        {
          "output_type": "execute_result",
          "data": {
            "text/plain": [
              "True"
            ]
          },
          "metadata": {
            "tags": []
          },
          "execution_count": 11
        }
      ]
    },
    {
      "cell_type": "markdown",
      "metadata": {
        "id": "6h032FmahizD"
      },
      "source": [
        "Add and re-assign"
      ]
    },
    {
      "cell_type": "code",
      "metadata": {
        "id": "QG6AWEsJbziM",
        "colab": {
          "base_uri": "https://localhost:8080/",
          "height": 35
        },
        "outputId": "024c1399-c424-4958-cdc2-ea2ac5cbb000"
      },
      "source": [
        "simple_string1 += ' that re-assigned the original string'\n",
        "simple_string1"
      ],
      "execution_count": 12,
      "outputs": [
        {
          "output_type": "execute_result",
          "data": {
            "application/vnd.google.colaboratory.intrinsic+json": {
              "type": "string"
            },
            "text/plain": [
              "'an example that re-assigned the original string'"
            ]
          },
          "metadata": {
            "tags": []
          },
          "execution_count": 12
        }
      ]
    },
    {
      "cell_type": "markdown",
      "metadata": {
        "id": "vWeRnQZvhlHM"
      },
      "source": [
        "Multiply and re-assign"
      ]
    },
    {
      "cell_type": "code",
      "metadata": {
        "id": "Qrgd2LyUcLDF",
        "colab": {
          "base_uri": "https://localhost:8080/",
          "height": 35
        },
        "outputId": "f98dc3bd-159e-4465-ee3b-9456c24daa93"
      },
      "source": [
        "simple_string2 *= 3\n",
        "simple_string2"
      ],
      "execution_count": 13,
      "outputs": [
        {
          "output_type": "execute_result",
          "data": {
            "application/vnd.google.colaboratory.intrinsic+json": {
              "type": "string"
            },
            "text/plain": [
              "'oranges oranges oranges '"
            ]
          },
          "metadata": {
            "tags": []
          },
          "execution_count": 13
        }
      ]
    },
    {
      "cell_type": "markdown",
      "metadata": {
        "id": "_kD16nooc5p9"
      },
      "source": [
        "**Note: Subtraction, division, and decrement operators do not apply to strings.**"
      ]
    },
    {
      "cell_type": "markdown",
      "metadata": {
        "id": "_uaGkuZFh2g0"
      },
      "source": [
        "## Strings are Arrays\n",
        "\n",
        "- Like many other popular programming languages, strings in Python are arrays of characters.\n",
        "\n",
        "- However, Python does not have a character data type, a single character is simply a string with a length of 1.\n",
        "\n",
        "- Square brackets can be used to access elements of the string."
      ]
    },
    {
      "cell_type": "code",
      "metadata": {
        "id": "XXxZrew0h6lb",
        "colab": {
          "base_uri": "https://localhost:8080/"
        },
        "outputId": "ed860d74-81e0-4a82-ae89-21a1f8404f12"
      },
      "source": [
        "a = \"Hello, World!\"\n",
        "print(a[1])"
      ],
      "execution_count": 14,
      "outputs": [
        {
          "output_type": "stream",
          "text": [
            "e\n"
          ],
          "name": "stdout"
        }
      ]
    },
    {
      "cell_type": "markdown",
      "metadata": {
        "id": "c1Ece-nOjdWF"
      },
      "source": [
        "## Looping Through a String"
      ]
    },
    {
      "cell_type": "markdown",
      "metadata": {
        "id": "2iZubS3WkB4k"
      },
      "source": [
        "Since strings are arrays, we can loop through the characters in a string, with a for loop."
      ]
    },
    {
      "cell_type": "code",
      "metadata": {
        "colab": {
          "base_uri": "https://localhost:8080/"
        },
        "id": "S3rKwYjNkBIE",
        "outputId": "9c00368a-68cf-40a8-fce0-c546a69e0037"
      },
      "source": [
        "for x in \"banana\":\n",
        "  print(x)"
      ],
      "execution_count": 15,
      "outputs": [
        {
          "output_type": "stream",
          "text": [
            "b\n",
            "a\n",
            "n\n",
            "a\n",
            "n\n",
            "a\n"
          ],
          "name": "stdout"
        }
      ]
    },
    {
      "cell_type": "markdown",
      "metadata": {
        "id": "17LFFhRFkJh0"
      },
      "source": [
        "## String Length"
      ]
    },
    {
      "cell_type": "markdown",
      "metadata": {
        "id": "UtjNGVS_kRXb"
      },
      "source": [
        "- To get the length of a string, use the **len()** function.\n",
        "\n",
        "- The len() function returns the length of a string"
      ]
    },
    {
      "cell_type": "code",
      "metadata": {
        "id": "AkMOCQSQkdfM",
        "colab": {
          "base_uri": "https://localhost:8080/"
        },
        "outputId": "eae54c19-544c-4e09-bf32-2d0e3d66f01a"
      },
      "source": [
        "a = \"Hello, World!\"\n",
        "print(len(a))"
      ],
      "execution_count": 16,
      "outputs": [
        {
          "output_type": "stream",
          "text": [
            "13\n"
          ],
          "name": "stdout"
        }
      ]
    },
    {
      "cell_type": "markdown",
      "metadata": {
        "id": "3tbjraFSknmL"
      },
      "source": [
        "## Check String\n",
        "\n",
        "To check if a certain phrase or character is present in a string, we can use the keyword **in**."
      ]
    },
    {
      "cell_type": "markdown",
      "metadata": {
        "id": "fpK5RFD6k0hM"
      },
      "source": [
        "Check if \"free\" is present in the following text:"
      ]
    },
    {
      "cell_type": "code",
      "metadata": {
        "id": "014RezeNko97",
        "colab": {
          "base_uri": "https://localhost:8080/"
        },
        "outputId": "b408d039-25e6-4a13-9735-90c0685f2ffb"
      },
      "source": [
        "text = \"The best things in life are free!\"\n",
        "print(\"free\" in text)"
      ],
      "execution_count": 17,
      "outputs": [
        {
          "output_type": "stream",
          "text": [
            "True\n"
          ],
          "name": "stdout"
        }
      ]
    },
    {
      "cell_type": "markdown",
      "metadata": {
        "id": "n6bLqKOCpIDs"
      },
      "source": [
        "Use it in an **if** statement:"
      ]
    },
    {
      "cell_type": "code",
      "metadata": {
        "id": "OS9XmlAJpCi2",
        "colab": {
          "base_uri": "https://localhost:8080/"
        },
        "outputId": "8d2c59ab-9aa8-46dc-df63-d931ce2146ae"
      },
      "source": [
        "text = \"The best things in life are free!\"\n",
        "if \"free\" in text:\n",
        "  print(\"Yes, 'free' is present.\")"
      ],
      "execution_count": 18,
      "outputs": [
        {
          "output_type": "stream",
          "text": [
            "Yes, 'free' is present.\n"
          ],
          "name": "stdout"
        }
      ]
    },
    {
      "cell_type": "markdown",
      "metadata": {
        "id": "DiS0qwrMpQIc"
      },
      "source": [
        "## Check if NOT"
      ]
    },
    {
      "cell_type": "markdown",
      "metadata": {
        "id": "ce4GbWNDpUAw"
      },
      "source": [
        "To check if a certain phrase or character is NOT present in a string, we can use the keyword **not in**."
      ]
    },
    {
      "cell_type": "code",
      "metadata": {
        "id": "Gik0dPQfpRpO",
        "colab": {
          "base_uri": "https://localhost:8080/"
        },
        "outputId": "46f6f268-c319-4057-fb04-e675a107f173"
      },
      "source": [
        "text = \"The best things in life are free!\"\n",
        "print(\"expensive\" not in text)"
      ],
      "execution_count": 19,
      "outputs": [
        {
          "output_type": "stream",
          "text": [
            "True\n"
          ],
          "name": "stdout"
        }
      ]
    },
    {
      "cell_type": "markdown",
      "metadata": {
        "id": "GJwsQuzRpk8-"
      },
      "source": [
        "Use it in an if statement:"
      ]
    },
    {
      "cell_type": "code",
      "metadata": {
        "id": "mURKsMLupl5F",
        "colab": {
          "base_uri": "https://localhost:8080/"
        },
        "outputId": "7525b384-42b0-464c-88ea-a44b210c03a7"
      },
      "source": [
        "text = \"The best things in life are free!\"\n",
        "if \"expensive\" not in text:\n",
        "  print(\"Yes, 'expensive' is NOT present.\")"
      ],
      "execution_count": 20,
      "outputs": [
        {
          "output_type": "stream",
          "text": [
            "Yes, 'expensive' is NOT present.\n"
          ],
          "name": "stdout"
        }
      ]
    }
  ]
}
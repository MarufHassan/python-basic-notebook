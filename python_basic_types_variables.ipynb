{
  "nbformat": 4,
  "nbformat_minor": 0,
  "metadata": {
    "colab": {
      "name": "python_basic_types_variables.ipynb",
      "provenance": [],
      "toc_visible": true
    },
    "kernelspec": {
      "name": "python3",
      "display_name": "Python 3"
    }
  },
  "cells": [
    {
      "cell_type": "markdown",
      "metadata": {
        "id": "VHv1oxQBbXEK"
      },
      "source": [
        "### \"Hello world\" in Python!"
      ]
    },
    {
      "cell_type": "code",
      "metadata": {
        "colab": {
          "base_uri": "https://localhost:8080/"
        },
        "id": "UbJ48MlKbuyS",
        "outputId": "de9f4bfd-750e-45f5-af06-535e00c06819"
      },
      "source": [
        "print('Hello world!')"
      ],
      "execution_count": 1,
      "outputs": [
        {
          "output_type": "stream",
          "text": [
            "Hello world!\n"
          ],
          "name": "stdout"
        }
      ]
    },
    {
      "cell_type": "markdown",
      "metadata": {
        "id": "ft62ZrOXcb0C"
      },
      "source": [
        "If it works, congratulations! You just ran your first Python program."
      ]
    },
    {
      "cell_type": "markdown",
      "metadata": {
        "id": "3gagv6FxdxLk"
      },
      "source": [
        "## Comments"
      ]
    },
    {
      "cell_type": "markdown",
      "metadata": {
        "id": "V1RHs-dQd6FC"
      },
      "source": [
        "Comments allow you to write in English, within your program. In Python, any line that starts with a pound (#) symbol is ignored by the Python interpreter."
      ]
    },
    {
      "cell_type": "code",
      "metadata": {
        "colab": {
          "base_uri": "https://localhost:8080/"
        },
        "id": "RNUUxO2VeKwK",
        "outputId": "36236d8e-e711-447e-f6a7-cae065d79f4e"
      },
      "source": [
        "# This line is a comment.\n",
        "\n",
        "print(\"This line is not a comment, it is code.\")"
      ],
      "execution_count": 2,
      "outputs": [
        {
          "output_type": "stream",
          "text": [
            "This line is not a comment, it is code.\n"
          ],
          "name": "stdout"
        }
      ]
    },
    {
      "cell_type": "markdown",
      "metadata": {
        "id": "p8SDwwfZvuYl"
      },
      "source": [
        "**Why Comments?**\n",
        "\n",
        "- Comments can be used to explain Python code.\n",
        "- Comments can be used to make the code more readable.\n",
        "- Comments can be used to prevent execution when testing code."
      ]
    },
    {
      "cell_type": "markdown",
      "metadata": {
        "id": "mOIroEqlvQ_V"
      },
      "source": [
        "## User Input\n",
        "\n",
        "The following example asks for the username, and when you entered the username, it gets printed on the screen:"
      ]
    },
    {
      "cell_type": "code",
      "metadata": {
        "colab": {
          "base_uri": "https://localhost:8080/"
        },
        "id": "Ze3BvDc0vQQ-",
        "outputId": "e4766ef4-02f0-4d77-ac55-42bae06a5773"
      },
      "source": [
        "username = input(\"Enter username:\")\n",
        "print(\"Username is: \" + username)"
      ],
      "execution_count": 3,
      "outputs": [
        {
          "output_type": "stream",
          "text": [
            "Enter username:Maruf\n",
            "Username is: Maruf\n"
          ],
          "name": "stdout"
        }
      ]
    },
    {
      "cell_type": "markdown",
      "metadata": {
        "id": "Xz6ngh8GbCQJ"
      },
      "source": [
        "## Python basic types and variables"
      ]
    },
    {
      "cell_type": "markdown",
      "metadata": {
        "id": "UnGXO_-Je6WL"
      },
      "source": [
        "### Variables\n",
        "A variable holds a value."
      ]
    },
    {
      "cell_type": "markdown",
      "metadata": {
        "id": "G4ISKK1MfURE"
      },
      "source": [
        "**Example**"
      ]
    },
    {
      "cell_type": "code",
      "metadata": {
        "colab": {
          "base_uri": "https://localhost:8080/"
        },
        "id": "wL2Cw7-ga8ZD",
        "outputId": "47ce0b67-81e4-4dc1-fd4c-8a92ec97046f"
      },
      "source": [
        "number = 10\n",
        "print(number)"
      ],
      "execution_count": 4,
      "outputs": [
        {
          "output_type": "stream",
          "text": [
            "10\n"
          ],
          "name": "stdout"
        }
      ]
    },
    {
      "cell_type": "markdown",
      "metadata": {
        "id": "fE0lmchmfxcK"
      },
      "source": [
        "A variable holds a value. You can change the value of a variable at any point."
      ]
    },
    {
      "cell_type": "code",
      "metadata": {
        "colab": {
          "base_uri": "https://localhost:8080/"
        },
        "id": "uLuc_s3lfzlh",
        "outputId": "4220c6a3-e1b2-4797-9e2a-00dbb273de10"
      },
      "source": [
        "number = 20\n",
        "print(number)"
      ],
      "execution_count": 5,
      "outputs": [
        {
          "output_type": "stream",
          "text": [
            "20\n"
          ],
          "name": "stdout"
        }
      ]
    },
    {
      "cell_type": "markdown",
      "metadata": {
        "id": "VzU5Ct0IiHo-"
      },
      "source": [
        "#### Naming rules\n",
        "- Variables can only contain letters, numbers, and underscores.\n",
        "- Variable names can start with a letter or an underscore, but can not start with a number.\n",
        "- Spaces are not allowed in variable names, so we use underscores instead of spaces. For example, use student_name instead of \"student name\".\n",
        "- You cannot use Python keywords as variable names."
      ]
    },
    {
      "cell_type": "markdown",
      "metadata": {
        "id": "c-PNyNGTgcOx"
      },
      "source": [
        "#### Type of variable\n",
        "use the function type() to know the data type of variable"
      ]
    },
    {
      "cell_type": "markdown",
      "metadata": {
        "id": "rvdzTNQwhLC5"
      },
      "source": [
        "- **`int`** (integer; a whole number with no decimal place)\n",
        "  - `10`\n",
        "  - `-3`"
      ]
    },
    {
      "cell_type": "code",
      "metadata": {
        "colab": {
          "base_uri": "https://localhost:8080/"
        },
        "id": "ImWTXbISgrmp",
        "outputId": "ef36d03f-02ae-4314-ad0a-e9cfb5056efa"
      },
      "source": [
        "num = 10\n",
        "type(num)"
      ],
      "execution_count": 6,
      "outputs": [
        {
          "output_type": "execute_result",
          "data": {
            "text/plain": [
              "int"
            ]
          },
          "metadata": {
            "tags": []
          },
          "execution_count": 6
        }
      ]
    },
    {
      "cell_type": "code",
      "metadata": {
        "colab": {
          "base_uri": "https://localhost:8080/"
        },
        "id": "5x0lyb1whQv9",
        "outputId": "fddfb46c-f929-4a78-d30d-d9bdef1c50c6"
      },
      "source": [
        "num = -3\n",
        "type(num)"
      ],
      "execution_count": 7,
      "outputs": [
        {
          "output_type": "execute_result",
          "data": {
            "text/plain": [
              "int"
            ]
          },
          "metadata": {
            "tags": []
          },
          "execution_count": 7
        }
      ]
    },
    {
      "cell_type": "markdown",
      "metadata": {
        "id": "b6zc0egMhV7p"
      },
      "source": [
        "- **`float`** (float; a number that has a decimal place)\n",
        "  - `7.41`\n",
        "  - `-0.006`"
      ]
    },
    {
      "cell_type": "code",
      "metadata": {
        "colab": {
          "base_uri": "https://localhost:8080/"
        },
        "id": "zIrnwNbMheXy",
        "outputId": "75cc545b-6e43-40d3-a8e3-d5904750542c"
      },
      "source": [
        "num = 7.41\n",
        "type(num)"
      ],
      "execution_count": 8,
      "outputs": [
        {
          "output_type": "execute_result",
          "data": {
            "text/plain": [
              "float"
            ]
          },
          "metadata": {
            "tags": []
          },
          "execution_count": 8
        }
      ]
    },
    {
      "cell_type": "code",
      "metadata": {
        "colab": {
          "base_uri": "https://localhost:8080/"
        },
        "id": "DimKnzLchgiS",
        "outputId": "b1da58f4-db5b-48f4-b5f0-790909f01fa4"
      },
      "source": [
        "num = -0.006\n",
        "type(num)"
      ],
      "execution_count": 9,
      "outputs": [
        {
          "output_type": "execute_result",
          "data": {
            "text/plain": [
              "float"
            ]
          },
          "metadata": {
            "tags": []
          },
          "execution_count": 9
        }
      ]
    },
    {
      "cell_type": "markdown",
      "metadata": {
        "id": "Wj-qrVsihnaT"
      },
      "source": [
        "- **`str`** (string; a sequence of characters enclosed in single quotes, double quotes, or triple quotes)\n",
        "  - `'this is a string using single quotes'`\n",
        "  - `\"this is a string using double quotes\"`\n",
        "  - `'''this is a triple quoted string using single quotes'''`\n",
        "  - `\"\"\"this is a triple quoted string using double quotes\"\"\"`"
      ]
    },
    {
      "cell_type": "code",
      "metadata": {
        "colab": {
          "base_uri": "https://localhost:8080/"
        },
        "id": "_Wfp37vxhqoq",
        "outputId": "ed823656-f351-4115-f838-7dd7850ac04e"
      },
      "source": [
        "text = 'this is a string using single quotes'\n",
        "type(text)"
      ],
      "execution_count": 10,
      "outputs": [
        {
          "output_type": "execute_result",
          "data": {
            "text/plain": [
              "str"
            ]
          },
          "metadata": {
            "tags": []
          },
          "execution_count": 10
        }
      ]
    },
    {
      "cell_type": "code",
      "metadata": {
        "colab": {
          "base_uri": "https://localhost:8080/"
        },
        "id": "PtCuW7nahxIq",
        "outputId": "78809fc0-3b7c-469b-a4db-294d12e7433f"
      },
      "source": [
        "text = \"this is a string using double quotes\"\n",
        "type(text)"
      ],
      "execution_count": 11,
      "outputs": [
        {
          "output_type": "execute_result",
          "data": {
            "text/plain": [
              "str"
            ]
          },
          "metadata": {
            "tags": []
          },
          "execution_count": 11
        }
      ]
    },
    {
      "cell_type": "code",
      "metadata": {
        "colab": {
          "base_uri": "https://localhost:8080/"
        },
        "id": "aNfX3gC3h28E",
        "outputId": "c11df87b-59ff-4a45-c03a-52e938e48250"
      },
      "source": [
        "text = '''this is a triple quoted string using single quotes'''\n",
        "type(text)"
      ],
      "execution_count": 12,
      "outputs": [
        {
          "output_type": "execute_result",
          "data": {
            "text/plain": [
              "str"
            ]
          },
          "metadata": {
            "tags": []
          },
          "execution_count": 12
        }
      ]
    },
    {
      "cell_type": "code",
      "metadata": {
        "colab": {
          "base_uri": "https://localhost:8080/"
        },
        "id": "-25xwI0kh5ja",
        "outputId": "afb6c1bc-41b7-4966-c60e-bf88ee32f1dc"
      },
      "source": [
        "text = \"\"\"this is a triple quoted string using double quotes\"\"\"\n",
        "type(text)"
      ],
      "execution_count": 13,
      "outputs": [
        {
          "output_type": "execute_result",
          "data": {
            "text/plain": [
              "str"
            ]
          },
          "metadata": {
            "tags": []
          },
          "execution_count": 13
        }
      ]
    },
    {
      "cell_type": "markdown",
      "metadata": {
        "id": "6XmS7O4CiLjR"
      },
      "source": [
        "- **`bool`** (boolean; a binary value that is either true or false)\n",
        "  - `True`\n",
        "  - `False`"
      ]
    },
    {
      "cell_type": "code",
      "metadata": {
        "colab": {
          "base_uri": "https://localhost:8080/"
        },
        "id": "Vxvvvd71iNG5",
        "outputId": "22df0ab0-0e8e-4406-982d-bdd2dcb9fbd8"
      },
      "source": [
        "value = 3 < 5\n",
        "type(value)"
      ],
      "execution_count": 14,
      "outputs": [
        {
          "output_type": "execute_result",
          "data": {
            "text/plain": [
              "bool"
            ]
          },
          "metadata": {
            "tags": []
          },
          "execution_count": 14
        }
      ]
    },
    {
      "cell_type": "code",
      "metadata": {
        "colab": {
          "base_uri": "https://localhost:8080/"
        },
        "id": "FD0lHnflicGC",
        "outputId": "90d7d947-abd2-4775-8614-5a62b145d78f"
      },
      "source": [
        "3 < 5"
      ],
      "execution_count": 15,
      "outputs": [
        {
          "output_type": "execute_result",
          "data": {
            "text/plain": [
              "True"
            ]
          },
          "metadata": {
            "tags": []
          },
          "execution_count": 15
        }
      ]
    },
    {
      "cell_type": "code",
      "metadata": {
        "colab": {
          "base_uri": "https://localhost:8080/"
        },
        "id": "_wtJKwwsiefi",
        "outputId": "1145fc2f-aeb0-4806-e302-33045b3e08c1"
      },
      "source": [
        "3 > 5"
      ],
      "execution_count": 16,
      "outputs": [
        {
          "output_type": "execute_result",
          "data": {
            "text/plain": [
              "False"
            ]
          },
          "metadata": {
            "tags": []
          },
          "execution_count": 16
        }
      ]
    },
    {
      "cell_type": "markdown",
      "metadata": {
        "id": "umX2BhEaitB0"
      },
      "source": [
        "### Basic operators"
      ]
    },
    {
      "cell_type": "markdown",
      "metadata": {
        "id": "xultoD_7i6Tk"
      },
      "source": [
        "#### arithmetic operators\n",
        "  - **`+`** (addition)\n",
        "  - **`-`** (subtraction)\n",
        "  - **`*`** (multiplication)\n",
        "  - **`/`** (division)\n",
        "  - **`//`** (floor division)\n",
        "  - __`**`__ (exponent)\n",
        "  - **`%`**\t(modulus)"
      ]
    },
    {
      "cell_type": "code",
      "metadata": {
        "id": "y1HqBUKzjGUJ"
      },
      "source": [
        "# Assigning some numbers to different variables\n",
        "num1 = 10\n",
        "num2 = -3\n",
        "num3 = 7\n",
        "num4 = -6\n",
        "num5 = 4"
      ],
      "execution_count": 17,
      "outputs": []
    },
    {
      "cell_type": "code",
      "metadata": {
        "colab": {
          "base_uri": "https://localhost:8080/"
        },
        "id": "HRwilYnUjNBR",
        "outputId": "82d67681-ec51-4295-df6a-a1ec6dcfa8ac"
      },
      "source": [
        "# Addition\n",
        "num1 + num2"
      ],
      "execution_count": 18,
      "outputs": [
        {
          "output_type": "execute_result",
          "data": {
            "text/plain": [
              "7"
            ]
          },
          "metadata": {
            "tags": []
          },
          "execution_count": 18
        }
      ]
    },
    {
      "cell_type": "code",
      "metadata": {
        "colab": {
          "base_uri": "https://localhost:8080/"
        },
        "id": "FXHv091xjPFL",
        "outputId": "2de65f11-9901-4371-c36f-ae776134fc36"
      },
      "source": [
        "# Subtraction\n",
        "num2 - num3"
      ],
      "execution_count": 19,
      "outputs": [
        {
          "output_type": "execute_result",
          "data": {
            "text/plain": [
              "-10"
            ]
          },
          "metadata": {
            "tags": []
          },
          "execution_count": 19
        }
      ]
    },
    {
      "cell_type": "code",
      "metadata": {
        "colab": {
          "base_uri": "https://localhost:8080/"
        },
        "id": "96IdwvMAjSv5",
        "outputId": "f35937bf-43ef-4793-858c-16decf47b8a0"
      },
      "source": [
        "# Multiplication\n",
        "num3 * num4"
      ],
      "execution_count": 20,
      "outputs": [
        {
          "output_type": "execute_result",
          "data": {
            "text/plain": [
              "-42"
            ]
          },
          "metadata": {
            "tags": []
          },
          "execution_count": 20
        }
      ]
    },
    {
      "cell_type": "code",
      "metadata": {
        "colab": {
          "base_uri": "https://localhost:8080/"
        },
        "id": "PfAVN2_YjUgM",
        "outputId": "8a491ceb-2e51-4e77-d15a-a0e512581c0f"
      },
      "source": [
        "# Division\n",
        "num4 / num5"
      ],
      "execution_count": 21,
      "outputs": [
        {
          "output_type": "execute_result",
          "data": {
            "text/plain": [
              "-1.5"
            ]
          },
          "metadata": {
            "tags": []
          },
          "execution_count": 21
        }
      ]
    },
    {
      "cell_type": "code",
      "metadata": {
        "colab": {
          "base_uri": "https://localhost:8080/"
        },
        "id": "FMxkxO-qw0ex",
        "outputId": "64079fd4-fbd1-48a0-80d0-e278892b1f75"
      },
      "source": [
        "# the floor division // rounds the result down to the nearest whole number\n",
        "x = 15\n",
        "y = 2\n",
        "x // y"
      ],
      "execution_count": 22,
      "outputs": [
        {
          "output_type": "execute_result",
          "data": {
            "text/plain": [
              "7"
            ]
          },
          "metadata": {
            "tags": []
          },
          "execution_count": 22
        }
      ]
    },
    {
      "cell_type": "code",
      "metadata": {
        "colab": {
          "base_uri": "https://localhost:8080/"
        },
        "id": "o6MlN9_OjczS",
        "outputId": "c04f5652-3b59-48c9-e92c-efed2b6f95a9"
      },
      "source": [
        "# Exponent\n",
        "# 2 ^ 3 = 2 * 2 * 2\n",
        "print(2 ** 3 )\n",
        "\n",
        "# 3 ^ 4 = 3 * 3 * 3 * 3\n",
        "print(3 ** 4)"
      ],
      "execution_count": 23,
      "outputs": [
        {
          "output_type": "stream",
          "text": [
            "8\n",
            "81\n"
          ],
          "name": "stdout"
        }
      ]
    },
    {
      "cell_type": "code",
      "metadata": {
        "colab": {
          "base_uri": "https://localhost:8080/"
        },
        "id": "o-q_tDJ9x5QV",
        "outputId": "0fd25d55-8ea3-4288-a42a-c7e80aeb2abc"
      },
      "source": [
        "# modulus\n",
        "3 % 2"
      ],
      "execution_count": 24,
      "outputs": [
        {
          "output_type": "execute_result",
          "data": {
            "text/plain": [
              "1"
            ]
          },
          "metadata": {
            "tags": []
          },
          "execution_count": 24
        }
      ]
    },
    {
      "cell_type": "markdown",
      "metadata": {
        "id": "ogu-35Hfi7xi"
      },
      "source": [
        "#### assignment operators\n",
        "  - **`=`** (assign a value)\n",
        "  - **`+=`** (add and re-assign; increment)\n",
        "  - **`-=`** (subtract and re-assign; decrement)\n",
        "  - **`*=`** (multiply and re-assign)"
      ]
    },
    {
      "cell_type": "code",
      "metadata": {
        "id": "dv07ZNdFkDxx"
      },
      "source": [
        "# Assigning some numbers to different variables\n",
        "num6 = 3\n",
        "num7 = 11"
      ],
      "execution_count": 25,
      "outputs": []
    },
    {
      "cell_type": "code",
      "metadata": {
        "colab": {
          "base_uri": "https://localhost:8080/"
        },
        "id": "kC8Ui4NKj2jS",
        "outputId": "49e8081a-37ab-46e2-fc67-9c344fd6eb20"
      },
      "source": [
        "# Increment existing variable\n",
        "num7 += 4 # num7 = num7 + 4\n",
        "num7"
      ],
      "execution_count": 26,
      "outputs": [
        {
          "output_type": "execute_result",
          "data": {
            "text/plain": [
              "15"
            ]
          },
          "metadata": {
            "tags": []
          },
          "execution_count": 26
        }
      ]
    },
    {
      "cell_type": "code",
      "metadata": {
        "colab": {
          "base_uri": "https://localhost:8080/"
        },
        "id": "Ph3ULMM5j7-6",
        "outputId": "3f3134b8-5a80-4cc1-fe24-df4ebfd13542"
      },
      "source": [
        "# Decrement existing variable\n",
        "num6 -= 2 # num6 = num6 - 2\n",
        "num6"
      ],
      "execution_count": 27,
      "outputs": [
        {
          "output_type": "execute_result",
          "data": {
            "text/plain": [
              "1"
            ]
          },
          "metadata": {
            "tags": []
          },
          "execution_count": 27
        }
      ]
    },
    {
      "cell_type": "code",
      "metadata": {
        "colab": {
          "base_uri": "https://localhost:8080/"
        },
        "id": "n1hT4ZDPkK1R",
        "outputId": "5835c682-bc4b-4fd6-e4d5-599af29da42c"
      },
      "source": [
        "# Multiply & re-assign\n",
        "num3 *= 5\n",
        "num3"
      ],
      "execution_count": 28,
      "outputs": [
        {
          "output_type": "execute_result",
          "data": {
            "text/plain": [
              "35"
            ]
          },
          "metadata": {
            "tags": []
          },
          "execution_count": 28
        }
      ]
    },
    {
      "cell_type": "code",
      "metadata": {
        "colab": {
          "base_uri": "https://localhost:8080/"
        },
        "id": "VGk5KJPukWV8",
        "outputId": "83375dfb-cd87-431b-f821-d62a8295610e"
      },
      "source": [
        "# Assign the value of an expression to a variable\n",
        "num8 = num1 + num2 * num3\n",
        "num8"
      ],
      "execution_count": 29,
      "outputs": [
        {
          "output_type": "execute_result",
          "data": {
            "text/plain": [
              "-95"
            ]
          },
          "metadata": {
            "tags": []
          },
          "execution_count": 29
        }
      ]
    },
    {
      "cell_type": "markdown",
      "metadata": {
        "id": "PGCM58Zji-NV"
      },
      "source": [
        "#### comparison operators (return either `True` or `False`)\n",
        "  - **`==`** (equal to)\n",
        "  - **`!=`** (not equal to)\n",
        "  - **`<`** (less than)\n",
        "  - **`<=`** (less than or equal to)\n",
        "  - **`>`** (greater than)\n",
        "  - **`>=`** (greater than or equal to)"
      ]
    },
    {
      "cell_type": "code",
      "metadata": {
        "colab": {
          "base_uri": "https://localhost:8080/"
        },
        "id": "Hps2_SoTka59",
        "outputId": "5f2b349b-3abe-4975-9cee-97fb9fd64abb"
      },
      "source": [
        "# Are these two expressions equal to each other?\n",
        "num1 + num2 == num5"
      ],
      "execution_count": 30,
      "outputs": [
        {
          "output_type": "execute_result",
          "data": {
            "text/plain": [
              "False"
            ]
          },
          "metadata": {
            "tags": []
          },
          "execution_count": 30
        }
      ]
    },
    {
      "cell_type": "code",
      "metadata": {
        "colab": {
          "base_uri": "https://localhost:8080/"
        },
        "id": "JsvIPqmckdbT",
        "outputId": "265737c0-3a10-4c7d-cede-83ca69fce076"
      },
      "source": [
        "# Are these two expressions not equal to each other?\n",
        "num3 != num4"
      ],
      "execution_count": 31,
      "outputs": [
        {
          "output_type": "execute_result",
          "data": {
            "text/plain": [
              "True"
            ]
          },
          "metadata": {
            "tags": []
          },
          "execution_count": 31
        }
      ]
    },
    {
      "cell_type": "code",
      "metadata": {
        "id": "-qM7K__akfMi",
        "colab": {
          "base_uri": "https://localhost:8080/"
        },
        "outputId": "21df4307-4cb1-49e4-9644-862236f4171c"
      },
      "source": [
        "# Is the first expression less than the second expression?\n",
        "num5 < num6"
      ],
      "execution_count": 32,
      "outputs": [
        {
          "output_type": "execute_result",
          "data": {
            "text/plain": [
              "False"
            ]
          },
          "metadata": {
            "tags": []
          },
          "execution_count": 32
        }
      ]
    },
    {
      "cell_type": "code",
      "metadata": {
        "id": "JLloZUKCkgtR",
        "colab": {
          "base_uri": "https://localhost:8080/"
        },
        "outputId": "536b15c8-8267-4227-fb78-a2b86f4bafa0"
      },
      "source": [
        "# Is this expression True?\n",
        "5 > 3 > 1"
      ],
      "execution_count": 33,
      "outputs": [
        {
          "output_type": "execute_result",
          "data": {
            "text/plain": [
              "True"
            ]
          },
          "metadata": {
            "tags": []
          },
          "execution_count": 33
        }
      ]
    },
    {
      "cell_type": "code",
      "metadata": {
        "id": "G6W4hgJikic6",
        "colab": {
          "base_uri": "https://localhost:8080/"
        },
        "outputId": "17e70759-d310-4891-e8a0-64edbb8df90c"
      },
      "source": [
        "# Is this expression True?\n",
        "5 > 3 < 4 == 3 + 1"
      ],
      "execution_count": 34,
      "outputs": [
        {
          "output_type": "execute_result",
          "data": {
            "text/plain": [
              "True"
            ]
          },
          "metadata": {
            "tags": []
          },
          "execution_count": 34
        }
      ]
    }
  ]
}
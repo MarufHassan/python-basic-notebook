{
  "nbformat": 4,
  "nbformat_minor": 0,
  "metadata": {
    "colab": {
      "name": "python_basic_types_variables.ipynb",
      "provenance": [],
      "collapsed_sections": [],
      "toc_visible": true
    },
    "kernelspec": {
      "name": "python3",
      "display_name": "Python 3"
    }
  },
  "cells": [
    {
      "cell_type": "markdown",
      "metadata": {
        "id": "VHv1oxQBbXEK"
      },
      "source": [
        "### \"Hello world\" in Python!"
      ]
    },
    {
      "cell_type": "code",
      "metadata": {
        "colab": {
          "base_uri": "https://localhost:8080/"
        },
        "id": "UbJ48MlKbuyS",
        "outputId": "ea8f3bea-b944-4fa9-ced4-c50988c97804"
      },
      "source": [
        "print('Hello world!')"
      ],
      "execution_count": 1,
      "outputs": [
        {
          "output_type": "stream",
          "text": [
            "Hello world!\n"
          ],
          "name": "stdout"
        }
      ]
    },
    {
      "cell_type": "markdown",
      "metadata": {
        "id": "ft62ZrOXcb0C"
      },
      "source": [
        "If it works, congratulations! You just ran your first Python program."
      ]
    },
    {
      "cell_type": "markdown",
      "metadata": {
        "id": "3gagv6FxdxLk"
      },
      "source": [
        "## Comments"
      ]
    },
    {
      "cell_type": "markdown",
      "metadata": {
        "id": "V1RHs-dQd6FC"
      },
      "source": [
        "Comments allow you to write in English, within your program. In Python, any line that starts with a pound (#) symbol is ignored by the Python interpreter."
      ]
    },
    {
      "cell_type": "code",
      "metadata": {
        "colab": {
          "base_uri": "https://localhost:8080/"
        },
        "id": "RNUUxO2VeKwK",
        "outputId": "f3b55ba0-a67b-4346-b0a7-f001df92355e"
      },
      "source": [
        "# This line is a comment.\n",
        "\n",
        "print(\"This line is not a comment, it is code.\")"
      ],
      "execution_count": 2,
      "outputs": [
        {
          "output_type": "stream",
          "text": [
            "This line is not a comment, it is code.\n"
          ],
          "name": "stdout"
        }
      ]
    },
    {
      "cell_type": "markdown",
      "metadata": {
        "id": "p8SDwwfZvuYl"
      },
      "source": [
        "**Why Comments?**\n",
        "\n",
        "- Comments can be used to explain Python code.\n",
        "- Comments can be used to make the code more readable.\n",
        "- Comments can be used to prevent execution when testing code."
      ]
    },
    {
      "cell_type": "markdown",
      "metadata": {
        "id": "Xz6ngh8GbCQJ"
      },
      "source": [
        "## Python basic types and variables"
      ]
    },
    {
      "cell_type": "markdown",
      "metadata": {
        "id": "UnGXO_-Je6WL"
      },
      "source": [
        "### Variables\n",
        "A variable holds a value."
      ]
    },
    {
      "cell_type": "markdown",
      "metadata": {
        "id": "G4ISKK1MfURE"
      },
      "source": [
        "**Example**"
      ]
    },
    {
      "cell_type": "code",
      "metadata": {
        "colab": {
          "base_uri": "https://localhost:8080/"
        },
        "id": "wL2Cw7-ga8ZD",
        "outputId": "6268f73c-51dd-4414-d6c4-a0ffbc39c8e5"
      },
      "source": [
        "number = 10\n",
        "print(number)"
      ],
      "execution_count": 3,
      "outputs": [
        {
          "output_type": "stream",
          "text": [
            "10\n"
          ],
          "name": "stdout"
        }
      ]
    },
    {
      "cell_type": "markdown",
      "metadata": {
        "id": "fE0lmchmfxcK"
      },
      "source": [
        "A variable holds a value. You can change the value of a variable at any point."
      ]
    },
    {
      "cell_type": "code",
      "metadata": {
        "colab": {
          "base_uri": "https://localhost:8080/"
        },
        "id": "uLuc_s3lfzlh",
        "outputId": "297846a3-397e-4a76-912f-95a928879a61"
      },
      "source": [
        "number = 20\n",
        "print(number)"
      ],
      "execution_count": 4,
      "outputs": [
        {
          "output_type": "stream",
          "text": [
            "20\n"
          ],
          "name": "stdout"
        }
      ]
    },
    {
      "cell_type": "markdown",
      "metadata": {
        "id": "VzU5Ct0IiHo-"
      },
      "source": [
        "#### Naming rules\n",
        "- Variables can only contain letters, numbers, and underscores.\n",
        "- Variable names can start with a letter or an underscore, but can not start with a number.\n",
        "- Spaces are not allowed in variable names, so we use underscores instead of spaces. For example, use student_name instead of \"student name\".\n",
        "- You cannot use Python keywords as variable names."
      ]
    },
    {
      "cell_type": "markdown",
      "metadata": {
        "id": "c-PNyNGTgcOx"
      },
      "source": [
        "#### Type of variable\n",
        "use the function type() to know the data type of variable"
      ]
    },
    {
      "cell_type": "markdown",
      "metadata": {
        "id": "rvdzTNQwhLC5"
      },
      "source": [
        "- **`int`** (integer; a whole number with no decimal place)\n",
        "  - `10`\n",
        "  - `-3`"
      ]
    },
    {
      "cell_type": "code",
      "metadata": {
        "colab": {
          "base_uri": "https://localhost:8080/"
        },
        "id": "ImWTXbISgrmp",
        "outputId": "3ca89402-5a6e-4d7f-8d76-3e6ef1651aba"
      },
      "source": [
        "num = 10\n",
        "type(num)"
      ],
      "execution_count": 5,
      "outputs": [
        {
          "output_type": "execute_result",
          "data": {
            "text/plain": [
              "int"
            ]
          },
          "metadata": {
            "tags": []
          },
          "execution_count": 5
        }
      ]
    },
    {
      "cell_type": "code",
      "metadata": {
        "colab": {
          "base_uri": "https://localhost:8080/"
        },
        "id": "5x0lyb1whQv9",
        "outputId": "a833705e-b6f0-4cdd-da9f-beef5b1f2bff"
      },
      "source": [
        "num = -3\n",
        "type(num)"
      ],
      "execution_count": 6,
      "outputs": [
        {
          "output_type": "execute_result",
          "data": {
            "text/plain": [
              "int"
            ]
          },
          "metadata": {
            "tags": []
          },
          "execution_count": 6
        }
      ]
    },
    {
      "cell_type": "markdown",
      "metadata": {
        "id": "b6zc0egMhV7p"
      },
      "source": [
        "- **`float`** (float; a number that has a decimal place)\n",
        "  - `7.41`\n",
        "  - `-0.006`"
      ]
    },
    {
      "cell_type": "code",
      "metadata": {
        "colab": {
          "base_uri": "https://localhost:8080/"
        },
        "id": "zIrnwNbMheXy",
        "outputId": "261571ce-f632-4866-c383-d58687d243ba"
      },
      "source": [
        "num = 7.41\n",
        "type(num)"
      ],
      "execution_count": 7,
      "outputs": [
        {
          "output_type": "execute_result",
          "data": {
            "text/plain": [
              "float"
            ]
          },
          "metadata": {
            "tags": []
          },
          "execution_count": 7
        }
      ]
    },
    {
      "cell_type": "code",
      "metadata": {
        "colab": {
          "base_uri": "https://localhost:8080/"
        },
        "id": "DimKnzLchgiS",
        "outputId": "153c33a6-b2cd-42fb-d85e-50b821b53e8b"
      },
      "source": [
        "num = -0.006\n",
        "type(num)"
      ],
      "execution_count": 8,
      "outputs": [
        {
          "output_type": "execute_result",
          "data": {
            "text/plain": [
              "float"
            ]
          },
          "metadata": {
            "tags": []
          },
          "execution_count": 8
        }
      ]
    },
    {
      "cell_type": "markdown",
      "metadata": {
        "id": "Wj-qrVsihnaT"
      },
      "source": [
        "- **`str`** (string; a sequence of characters enclosed in single quotes, double quotes, or triple quotes)\n",
        "  - `'this is a string using single quotes'`\n",
        "  - `\"this is a string using double quotes\"`\n",
        "  - `'''this is a triple quoted string using single quotes'''`\n",
        "  - `\"\"\"this is a triple quoted string using double quotes\"\"\"`"
      ]
    },
    {
      "cell_type": "code",
      "metadata": {
        "colab": {
          "base_uri": "https://localhost:8080/"
        },
        "id": "_Wfp37vxhqoq",
        "outputId": "090ffa8a-90d1-4669-8aea-1cc76d0db59d"
      },
      "source": [
        "text = 'this is a string using single quotes'\n",
        "type(text)"
      ],
      "execution_count": 9,
      "outputs": [
        {
          "output_type": "execute_result",
          "data": {
            "text/plain": [
              "str"
            ]
          },
          "metadata": {
            "tags": []
          },
          "execution_count": 9
        }
      ]
    },
    {
      "cell_type": "code",
      "metadata": {
        "colab": {
          "base_uri": "https://localhost:8080/"
        },
        "id": "PtCuW7nahxIq",
        "outputId": "04da1697-6ad0-4733-c7d1-c59e1c20fbd2"
      },
      "source": [
        "text = \"this is a string using double quotes\"\n",
        "type(text)"
      ],
      "execution_count": 10,
      "outputs": [
        {
          "output_type": "execute_result",
          "data": {
            "text/plain": [
              "str"
            ]
          },
          "metadata": {
            "tags": []
          },
          "execution_count": 10
        }
      ]
    },
    {
      "cell_type": "code",
      "metadata": {
        "colab": {
          "base_uri": "https://localhost:8080/"
        },
        "id": "aNfX3gC3h28E",
        "outputId": "b759c2ee-5ba3-4535-8e20-1d726f7917bd"
      },
      "source": [
        "text = '''this is a triple quoted string using single quotes'''\n",
        "type(text)"
      ],
      "execution_count": 11,
      "outputs": [
        {
          "output_type": "execute_result",
          "data": {
            "text/plain": [
              "str"
            ]
          },
          "metadata": {
            "tags": []
          },
          "execution_count": 11
        }
      ]
    },
    {
      "cell_type": "code",
      "metadata": {
        "colab": {
          "base_uri": "https://localhost:8080/"
        },
        "id": "-25xwI0kh5ja",
        "outputId": "cc0d7e3a-8fd2-45d8-ff94-8e518632e085"
      },
      "source": [
        "text = \"\"\"this is a triple quoted string using double quotes\"\"\"\n",
        "type(text)"
      ],
      "execution_count": 12,
      "outputs": [
        {
          "output_type": "execute_result",
          "data": {
            "text/plain": [
              "str"
            ]
          },
          "metadata": {
            "tags": []
          },
          "execution_count": 12
        }
      ]
    },
    {
      "cell_type": "markdown",
      "metadata": {
        "id": "6XmS7O4CiLjR"
      },
      "source": [
        "- **`bool`** (boolean; a binary value that is either true or false)\n",
        "  - `True`\n",
        "  - `False`"
      ]
    },
    {
      "cell_type": "code",
      "metadata": {
        "colab": {
          "base_uri": "https://localhost:8080/"
        },
        "id": "Vxvvvd71iNG5",
        "outputId": "e1a92d78-db37-4828-f0c8-b3a20706ff57"
      },
      "source": [
        "value = 3 < 5\n",
        "type(value)"
      ],
      "execution_count": 13,
      "outputs": [
        {
          "output_type": "execute_result",
          "data": {
            "text/plain": [
              "bool"
            ]
          },
          "metadata": {
            "tags": []
          },
          "execution_count": 13
        }
      ]
    },
    {
      "cell_type": "code",
      "metadata": {
        "colab": {
          "base_uri": "https://localhost:8080/"
        },
        "id": "FD0lHnflicGC",
        "outputId": "8408c8bc-6ead-4147-cbca-2aea122ae0ff"
      },
      "source": [
        "3 < 5"
      ],
      "execution_count": 14,
      "outputs": [
        {
          "output_type": "execute_result",
          "data": {
            "text/plain": [
              "True"
            ]
          },
          "metadata": {
            "tags": []
          },
          "execution_count": 14
        }
      ]
    },
    {
      "cell_type": "code",
      "metadata": {
        "colab": {
          "base_uri": "https://localhost:8080/"
        },
        "id": "_wtJKwwsiefi",
        "outputId": "0b5d1260-1ea5-4d29-dcfd-47bcfcdf3198"
      },
      "source": [
        "3 > 5"
      ],
      "execution_count": 15,
      "outputs": [
        {
          "output_type": "execute_result",
          "data": {
            "text/plain": [
              "False"
            ]
          },
          "metadata": {
            "tags": []
          },
          "execution_count": 15
        }
      ]
    },
    {
      "cell_type": "markdown",
      "metadata": {
        "id": "jCVdDlqvIxGD"
      },
      "source": [
        "#### Type Conversion"
      ]
    },
    {
      "cell_type": "markdown",
      "metadata": {
        "id": "EkM8BbSFI4nj"
      },
      "source": [
        "You can convert from one type to another with the **int**(), **float**(), **str()** function"
      ]
    },
    {
      "cell_type": "markdown",
      "metadata": {
        "id": "69wsCiAKJD1L"
      },
      "source": [
        "Convert from **float** type to **integer**:"
      ]
    },
    {
      "cell_type": "code",
      "metadata": {
        "colab": {
          "base_uri": "https://localhost:8080/"
        },
        "id": "j2m-wDlhJGAZ",
        "outputId": "aa73ef4d-98a7-4f0f-caec-dad0cd64eec3"
      },
      "source": [
        "num_float = 10.5\n",
        "num_int = int(num_float)\n",
        "print(num_int)\n"
      ],
      "execution_count": 16,
      "outputs": [
        {
          "output_type": "stream",
          "text": [
            "10\n"
          ],
          "name": "stdout"
        }
      ]
    },
    {
      "cell_type": "markdown",
      "metadata": {
        "id": "9F-c0nBgJnUb"
      },
      "source": [
        "Convert from **str** type to **integer**:"
      ]
    },
    {
      "cell_type": "code",
      "metadata": {
        "colab": {
          "base_uri": "https://localhost:8080/"
        },
        "id": "Do9pNhCLJqr7",
        "outputId": "267d1d59-a271-4a24-d40a-9376249fdd33"
      },
      "source": [
        "num_str = \"101\"\n",
        "num_int = int(num_str)\n",
        "print(num_int)"
      ],
      "execution_count": 17,
      "outputs": [
        {
          "output_type": "stream",
          "text": [
            "101\n"
          ],
          "name": "stdout"
        }
      ]
    },
    {
      "cell_type": "markdown",
      "metadata": {
        "id": "mOIroEqlvQ_V"
      },
      "source": [
        "### User Input\n",
        "\n",
        "The following example asks for the username, and when you entered the username, it gets printed on the screen:"
      ]
    },
    {
      "cell_type": "code",
      "metadata": {
        "colab": {
          "base_uri": "https://localhost:8080/"
        },
        "id": "Ze3BvDc0vQQ-",
        "outputId": "7df567fe-37da-47ec-f232-99c35ca3d890"
      },
      "source": [
        "username = input(\"Enter username: \")\n",
        "print(\"Username is: \" + username)"
      ],
      "execution_count": 18,
      "outputs": [
        {
          "output_type": "stream",
          "text": [
            "Enter username: Maruf\n",
            "Username is: Maruf\n"
          ],
          "name": "stdout"
        }
      ]
    },
    {
      "cell_type": "markdown",
      "metadata": {
        "id": "oXmvWYgXLFCR"
      },
      "source": [
        "Python takes every input as string. You can convert the string to **int**, **float**, **bool** by using the **int**(), **float**(), **bool**() function respectively."
      ]
    },
    {
      "cell_type": "code",
      "metadata": {
        "colab": {
          "base_uri": "https://localhost:8080/"
        },
        "id": "30m7OXJVLYVp",
        "outputId": "d4fb0338-88dd-4b2b-9690-d7e5c3be638a"
      },
      "source": [
        "input_text = input(\"Enter a number: \")\n",
        "number = int(input_text)\n",
        "print(number)"
      ],
      "execution_count": 19,
      "outputs": [
        {
          "output_type": "stream",
          "text": [
            "Enter a number: 123\n",
            "123\n"
          ],
          "name": "stdout"
        }
      ]
    },
    {
      "cell_type": "markdown",
      "metadata": {
        "id": "umX2BhEaitB0"
      },
      "source": [
        "### Basic operators"
      ]
    },
    {
      "cell_type": "markdown",
      "metadata": {
        "id": "xultoD_7i6Tk"
      },
      "source": [
        "#### arithmetic operators\n",
        "  - **`+`** (addition)\n",
        "  - **`-`** (subtraction)\n",
        "  - **`*`** (multiplication)\n",
        "  - **`/`** (division)\n",
        "  - **`//`** (floor division)\n",
        "  - __`**`__ (exponent)\n",
        "  - **`%`**\t(modulus)"
      ]
    },
    {
      "cell_type": "code",
      "metadata": {
        "id": "y1HqBUKzjGUJ"
      },
      "source": [
        "# Assigning some numbers to different variables\n",
        "num1 = 10\n",
        "num2 = -3\n",
        "num3 = 7\n",
        "num4 = -6\n",
        "num5 = 4"
      ],
      "execution_count": 20,
      "outputs": []
    },
    {
      "cell_type": "code",
      "metadata": {
        "colab": {
          "base_uri": "https://localhost:8080/"
        },
        "id": "HRwilYnUjNBR",
        "outputId": "7823c0cd-a7c5-49bc-d986-8d5ae33d422a"
      },
      "source": [
        "# Addition\n",
        "num1 + num2"
      ],
      "execution_count": 21,
      "outputs": [
        {
          "output_type": "execute_result",
          "data": {
            "text/plain": [
              "7"
            ]
          },
          "metadata": {
            "tags": []
          },
          "execution_count": 21
        }
      ]
    },
    {
      "cell_type": "code",
      "metadata": {
        "colab": {
          "base_uri": "https://localhost:8080/"
        },
        "id": "FXHv091xjPFL",
        "outputId": "982bf449-02c6-4695-c9e9-b57659d15d8b"
      },
      "source": [
        "# Subtraction\n",
        "num2 - num3"
      ],
      "execution_count": 22,
      "outputs": [
        {
          "output_type": "execute_result",
          "data": {
            "text/plain": [
              "-10"
            ]
          },
          "metadata": {
            "tags": []
          },
          "execution_count": 22
        }
      ]
    },
    {
      "cell_type": "code",
      "metadata": {
        "colab": {
          "base_uri": "https://localhost:8080/"
        },
        "id": "96IdwvMAjSv5",
        "outputId": "e9f319d4-466d-4fa4-bed1-bf4bbc84283c"
      },
      "source": [
        "# Multiplication\n",
        "num3 * num4"
      ],
      "execution_count": 23,
      "outputs": [
        {
          "output_type": "execute_result",
          "data": {
            "text/plain": [
              "-42"
            ]
          },
          "metadata": {
            "tags": []
          },
          "execution_count": 23
        }
      ]
    },
    {
      "cell_type": "code",
      "metadata": {
        "colab": {
          "base_uri": "https://localhost:8080/"
        },
        "id": "PfAVN2_YjUgM",
        "outputId": "75eeb180-c852-4ab6-f966-ab3bc73dff18"
      },
      "source": [
        "# Division\n",
        "num4 / num5"
      ],
      "execution_count": 24,
      "outputs": [
        {
          "output_type": "execute_result",
          "data": {
            "text/plain": [
              "-1.5"
            ]
          },
          "metadata": {
            "tags": []
          },
          "execution_count": 24
        }
      ]
    },
    {
      "cell_type": "code",
      "metadata": {
        "colab": {
          "base_uri": "https://localhost:8080/"
        },
        "id": "FMxkxO-qw0ex",
        "outputId": "251dbf7c-508d-4888-c86f-284eb078bbd9"
      },
      "source": [
        "# the floor division // rounds the result down to the nearest whole number\n",
        "x = 15\n",
        "y = 2\n",
        "x // y"
      ],
      "execution_count": 25,
      "outputs": [
        {
          "output_type": "execute_result",
          "data": {
            "text/plain": [
              "7"
            ]
          },
          "metadata": {
            "tags": []
          },
          "execution_count": 25
        }
      ]
    },
    {
      "cell_type": "code",
      "metadata": {
        "colab": {
          "base_uri": "https://localhost:8080/"
        },
        "id": "o6MlN9_OjczS",
        "outputId": "bb385f7a-e80e-46e1-d8aa-7258fb7e2f02"
      },
      "source": [
        "# Exponent\n",
        "# 2 ^ 3 = 2 * 2 * 2\n",
        "print(2 ** 3 )\n",
        "\n",
        "# 3 ^ 4 = 3 * 3 * 3 * 3\n",
        "print(3 ** 4)"
      ],
      "execution_count": 26,
      "outputs": [
        {
          "output_type": "stream",
          "text": [
            "8\n",
            "81\n"
          ],
          "name": "stdout"
        }
      ]
    },
    {
      "cell_type": "code",
      "metadata": {
        "colab": {
          "base_uri": "https://localhost:8080/"
        },
        "id": "o-q_tDJ9x5QV",
        "outputId": "e577cf3c-ed5e-4d7a-fc2b-5cc375f1bfad"
      },
      "source": [
        "# modulus\n",
        "3 % 2"
      ],
      "execution_count": 27,
      "outputs": [
        {
          "output_type": "execute_result",
          "data": {
            "text/plain": [
              "1"
            ]
          },
          "metadata": {
            "tags": []
          },
          "execution_count": 27
        }
      ]
    },
    {
      "cell_type": "markdown",
      "metadata": {
        "id": "ogu-35Hfi7xi"
      },
      "source": [
        "#### assignment operators\n",
        "  - **`=`** (assign a value)\n",
        "  - **`+=`** (add and re-assign; increment)\n",
        "  - **`-=`** (subtract and re-assign; decrement)\n",
        "  - **`*=`** (multiply and re-assign)"
      ]
    },
    {
      "cell_type": "code",
      "metadata": {
        "id": "dv07ZNdFkDxx"
      },
      "source": [
        "# Assigning some numbers to different variables\n",
        "num6 = 3\n",
        "num7 = 11"
      ],
      "execution_count": 28,
      "outputs": []
    },
    {
      "cell_type": "code",
      "metadata": {
        "colab": {
          "base_uri": "https://localhost:8080/"
        },
        "id": "kC8Ui4NKj2jS",
        "outputId": "87df4449-daa3-4631-e2a2-558fc18c34b2"
      },
      "source": [
        "# Increment existing variable\n",
        "num7 += 4 # num7 = num7 + 4\n",
        "num7"
      ],
      "execution_count": 29,
      "outputs": [
        {
          "output_type": "execute_result",
          "data": {
            "text/plain": [
              "15"
            ]
          },
          "metadata": {
            "tags": []
          },
          "execution_count": 29
        }
      ]
    },
    {
      "cell_type": "code",
      "metadata": {
        "colab": {
          "base_uri": "https://localhost:8080/"
        },
        "id": "Ph3ULMM5j7-6",
        "outputId": "ec4a1480-2508-41d5-8af9-27f9ddc8eb22"
      },
      "source": [
        "# Decrement existing variable\n",
        "num6 -= 2 # num6 = num6 - 2\n",
        "num6"
      ],
      "execution_count": 30,
      "outputs": [
        {
          "output_type": "execute_result",
          "data": {
            "text/plain": [
              "1"
            ]
          },
          "metadata": {
            "tags": []
          },
          "execution_count": 30
        }
      ]
    },
    {
      "cell_type": "code",
      "metadata": {
        "colab": {
          "base_uri": "https://localhost:8080/"
        },
        "id": "n1hT4ZDPkK1R",
        "outputId": "d6fd5de7-5fc7-408b-f953-59b90e94a93e"
      },
      "source": [
        "# Multiply & re-assign\n",
        "num3 *= 5\n",
        "num3"
      ],
      "execution_count": 31,
      "outputs": [
        {
          "output_type": "execute_result",
          "data": {
            "text/plain": [
              "35"
            ]
          },
          "metadata": {
            "tags": []
          },
          "execution_count": 31
        }
      ]
    },
    {
      "cell_type": "code",
      "metadata": {
        "colab": {
          "base_uri": "https://localhost:8080/"
        },
        "id": "VGk5KJPukWV8",
        "outputId": "2b2d6a3a-0c17-4ddd-f0da-ebf6940e2f51"
      },
      "source": [
        "# Assign the value of an expression to a variable\n",
        "num8 = num1 + num2 * num3\n",
        "num8"
      ],
      "execution_count": 32,
      "outputs": [
        {
          "output_type": "execute_result",
          "data": {
            "text/plain": [
              "-95"
            ]
          },
          "metadata": {
            "tags": []
          },
          "execution_count": 32
        }
      ]
    },
    {
      "cell_type": "markdown",
      "metadata": {
        "id": "PGCM58Zji-NV"
      },
      "source": [
        "#### comparison operators (return either `True` or `False`)\n",
        "  - **`==`** (equal to)\n",
        "  - **`!=`** (not equal to)\n",
        "  - **`<`** (less than)\n",
        "  - **`<=`** (less than or equal to)\n",
        "  - **`>`** (greater than)\n",
        "  - **`>=`** (greater than or equal to)"
      ]
    },
    {
      "cell_type": "code",
      "metadata": {
        "colab": {
          "base_uri": "https://localhost:8080/"
        },
        "id": "Hps2_SoTka59",
        "outputId": "6ab2fc3c-786d-4fad-a5c7-341a1d13bce9"
      },
      "source": [
        "# Are these two expressions equal to each other?\n",
        "num1 + num2 == num5"
      ],
      "execution_count": 33,
      "outputs": [
        {
          "output_type": "execute_result",
          "data": {
            "text/plain": [
              "False"
            ]
          },
          "metadata": {
            "tags": []
          },
          "execution_count": 33
        }
      ]
    },
    {
      "cell_type": "code",
      "metadata": {
        "colab": {
          "base_uri": "https://localhost:8080/"
        },
        "id": "JsvIPqmckdbT",
        "outputId": "eb2cb024-0f38-426b-9f9b-a2a4bad5e346"
      },
      "source": [
        "# Are these two expressions not equal to each other?\n",
        "num3 != num4"
      ],
      "execution_count": 34,
      "outputs": [
        {
          "output_type": "execute_result",
          "data": {
            "text/plain": [
              "True"
            ]
          },
          "metadata": {
            "tags": []
          },
          "execution_count": 34
        }
      ]
    },
    {
      "cell_type": "code",
      "metadata": {
        "id": "-qM7K__akfMi",
        "colab": {
          "base_uri": "https://localhost:8080/"
        },
        "outputId": "eb2b7c9b-80b2-4b02-ef14-8f5b7480e11a"
      },
      "source": [
        "# Is the first expression less than the second expression?\n",
        "num5 < num6"
      ],
      "execution_count": 35,
      "outputs": [
        {
          "output_type": "execute_result",
          "data": {
            "text/plain": [
              "False"
            ]
          },
          "metadata": {
            "tags": []
          },
          "execution_count": 35
        }
      ]
    },
    {
      "cell_type": "code",
      "metadata": {
        "id": "JLloZUKCkgtR",
        "colab": {
          "base_uri": "https://localhost:8080/"
        },
        "outputId": "0c290fb2-8bcd-49d5-d62e-6e6b0f6653c3"
      },
      "source": [
        "# Is this expression True?\n",
        "5 > 3 > 1"
      ],
      "execution_count": 36,
      "outputs": [
        {
          "output_type": "execute_result",
          "data": {
            "text/plain": [
              "True"
            ]
          },
          "metadata": {
            "tags": []
          },
          "execution_count": 36
        }
      ]
    },
    {
      "cell_type": "code",
      "metadata": {
        "id": "G6W4hgJikic6",
        "colab": {
          "base_uri": "https://localhost:8080/"
        },
        "outputId": "bb20de2a-064a-4da9-fa25-d40a0ac1f5ab"
      },
      "source": [
        "# Is this expression True?\n",
        "5 > 3 < 4 == 3 + 1"
      ],
      "execution_count": 37,
      "outputs": [
        {
          "output_type": "execute_result",
          "data": {
            "text/plain": [
              "True"
            ]
          },
          "metadata": {
            "tags": []
          },
          "execution_count": 37
        }
      ]
    }
  ]
}
{
  "nbformat": 4,
  "nbformat_minor": 0,
  "metadata": {
    "colab": {
      "name": "python_loop.ipynb",
      "provenance": []
    },
    "kernelspec": {
      "name": "python3",
      "display_name": "Python 3"
    }
  },
  "cells": [
    {
      "cell_type": "markdown",
      "metadata": {
        "id": "fnpaWLXgz-Eh"
      },
      "source": [
        "# Python Loops\n",
        "\n",
        "Python has two primitive loop commands:\n",
        "\n",
        "- **while** loops\n",
        "- **for** loops"
      ]
    },
    {
      "cell_type": "markdown",
      "metadata": {
        "id": "QsplGgTQ0TE3"
      },
      "source": [
        "## **while** Loop\n",
        "\n",
        "With the **while** loop we can execute a set of statements as long as a condition is **True**."
      ]
    },
    {
      "cell_type": "markdown",
      "metadata": {
        "id": "RaLX5r9l0jXZ"
      },
      "source": [
        "**Syntax of while Loop in Python**\n",
        "\n",
        "\n",
        "``` python\n",
        "while test_expression:\n",
        "    # body of while\n",
        "```\n",
        "\n"
      ]
    },
    {
      "cell_type": "markdown",
      "metadata": {
        "id": "LExq3JMJ0yUw"
      },
      "source": [
        "**Example 1: while loop**\n",
        "\n",
        "Print i as long as i is less than or equal to 5:"
      ]
    },
    {
      "cell_type": "code",
      "metadata": {
        "id": "BfA9o3ccxJEa"
      },
      "source": [
        "i = 1\n",
        "while i <= 5:\n",
        "    print(i)\n",
        "    i += 1"
      ],
      "execution_count": null,
      "outputs": []
    },
    {
      "cell_type": "markdown",
      "metadata": {
        "id": "LRqVFnx91GaR"
      },
      "source": [
        "**Example 2: while loop**\n",
        "\n",
        "Program to add natural numbers up to sum = 1 + 2 + 3 + ... + n"
      ]
    },
    {
      "cell_type": "code",
      "metadata": {
        "id": "uXULjdv01UX2"
      },
      "source": [
        "n = 10\n",
        "\n",
        "# initialize sum and counter\n",
        "sum = 0\n",
        "i = 1\n",
        "\n",
        "while i <= n:\n",
        "    sum = sum + i\n",
        "    i = i + 1    # update\n",
        "\n",
        "# print the sum\n",
        "print(\"The sum is\", sum)"
      ],
      "execution_count": null,
      "outputs": []
    },
    {
      "cell_type": "markdown",
      "metadata": {
        "id": "FwtbnZzR1lKw"
      },
      "source": [
        "### The **break** Statement\n",
        "\n",
        "With the **break** statement we can stop the loop even if the **while** condition is true:"
      ]
    },
    {
      "cell_type": "markdown",
      "metadata": {
        "id": "tSg30qaR1sug"
      },
      "source": [
        "Example: **break** statement\n",
        "\n",
        "Exit the loop when i is 3:"
      ]
    },
    {
      "cell_type": "code",
      "metadata": {
        "id": "78y7MslK1xYo"
      },
      "source": [
        "i = 1\n",
        "while i <= 5:\n",
        "    print(i)\n",
        "    if i == 3:\n",
        "        break\n",
        "    i += 1"
      ],
      "execution_count": null,
      "outputs": []
    },
    {
      "cell_type": "markdown",
      "metadata": {
        "id": "hqsBrBh417-w"
      },
      "source": [
        "### The **continue** Statement"
      ]
    },
    {
      "cell_type": "markdown",
      "metadata": {
        "id": "tXLlVZwJ2CDA"
      },
      "source": [
        "With the **continue** statement we can stop the current iteration, and **continue** with the next:\n",
        "\n",
        "**Example**\n",
        "\n",
        "Continue to the next iteration if *i* is 3:"
      ]
    },
    {
      "cell_type": "code",
      "metadata": {
        "id": "NCnFC4wP2BYs"
      },
      "source": [
        "i = 0\n",
        "while i <= 5:\n",
        "    i += 1\n",
        "    if i == 3:\n",
        "        continue\n",
        "    print(i)"
      ],
      "execution_count": null,
      "outputs": []
    },
    {
      "cell_type": "markdown",
      "metadata": {
        "id": "LbwEoHbq4J2C"
      },
      "source": [
        "## **for** loop"
      ]
    },
    {
      "cell_type": "markdown",
      "metadata": {
        "id": "XEpAUY254-Qx"
      },
      "source": [
        "\n",
        "**Syntax of for Loop**\n",
        "\n",
        "```python\n",
        "for value in sequence:\n",
        "\t# body of for\n",
        "```\n",
        "\n"
      ]
    },
    {
      "cell_type": "markdown",
      "metadata": {
        "id": "f_01yVlb6LjD"
      },
      "source": [
        "### The **range()** Function"
      ]
    },
    {
      "cell_type": "markdown",
      "metadata": {
        "id": "BxYW16ZR692z"
      },
      "source": [
        "The **range()** function returns a sequence of numbers, starting from 0 by default, and increments by 1 (by default), and ends at a specified number.\n",
        "\n",
        "**Example**\n",
        "\n",
        "Using the **range()** function:"
      ]
    },
    {
      "cell_type": "code",
      "metadata": {
        "id": "UYyw5p4T7Hux"
      },
      "source": [
        "for i in range(6):\n",
        "  print(i)"
      ],
      "execution_count": null,
      "outputs": []
    },
    {
      "cell_type": "markdown",
      "metadata": {
        "id": "DLYQoTXF7Z8x"
      },
      "source": [
        "Note that range(6) is not the values of 0 to 6, but the values 0 to 5."
      ]
    },
    {
      "cell_type": "markdown",
      "metadata": {
        "id": "Ke-hVdVO724x"
      },
      "source": [
        "Increment the sequence with 2 (default is 1):"
      ]
    },
    {
      "cell_type": "code",
      "metadata": {
        "colab": {
          "base_uri": "https://localhost:8080/"
        },
        "id": "vGCXU1pn7i5Y",
        "outputId": "832be351-aba2-4036-f31c-bfd87d4ee91e"
      },
      "source": [
        "for i in range(1, 6, 2):\n",
        "  print(i)"
      ],
      "execution_count": null,
      "outputs": [
        {
          "output_type": "stream",
          "text": [
            "1\n",
            "3\n",
            "5\n"
          ],
          "name": "stdout"
        }
      ]
    },
    {
      "cell_type": "markdown",
      "metadata": {
        "id": "4lq40eDv8Adp"
      },
      "source": [
        "decrement the sequence with -1"
      ]
    },
    {
      "cell_type": "code",
      "metadata": {
        "colab": {
          "base_uri": "https://localhost:8080/"
        },
        "id": "01I_BS8W7_9C",
        "outputId": "d2489913-4f15-4e24-b773-8cef91a73a87"
      },
      "source": [
        "for i in range(5, 0, -1):\n",
        "  print(i)"
      ],
      "execution_count": null,
      "outputs": [
        {
          "output_type": "stream",
          "text": [
            "5\n",
            "4\n",
            "3\n",
            "2\n",
            "1\n"
          ],
          "name": "stdout"
        }
      ]
    },
    {
      "cell_type": "markdown",
      "metadata": {
        "id": "_kv1CnLz8Uoa"
      },
      "source": [
        "### The **break** Statement\n",
        "\n",
        "With the **break** statement we can stop the loop"
      ]
    },
    {
      "cell_type": "markdown",
      "metadata": {
        "id": "CEfEgacs8Uod"
      },
      "source": [
        "Example: **break** statement\n",
        "\n",
        "Exit the loop when i is 3:"
      ]
    },
    {
      "cell_type": "code",
      "metadata": {
        "colab": {
          "base_uri": "https://localhost:8080/"
        },
        "id": "1-QNwEMA8Uoe",
        "outputId": "3b7c0b71-7535-4233-b7f7-70776c41d8a5"
      },
      "source": [
        "for i in range(1, 6, 1):\n",
        "    print(i)\n",
        "    if i == 3:\n",
        "        break"
      ],
      "execution_count": null,
      "outputs": [
        {
          "output_type": "stream",
          "text": [
            "1\n",
            "2\n",
            "3\n"
          ],
          "name": "stdout"
        }
      ]
    },
    {
      "cell_type": "markdown",
      "metadata": {
        "id": "0N91SX-R8Uoe"
      },
      "source": [
        "### The **continue** Statement"
      ]
    },
    {
      "cell_type": "markdown",
      "metadata": {
        "id": "6bvLVXBJ8Uoe"
      },
      "source": [
        "With the **continue** statement we can stop the current iteration, and **continue** with the next:\n",
        "\n",
        "**Example**\n",
        "\n",
        "Continue to the next iteration if i is 3:"
      ]
    },
    {
      "cell_type": "code",
      "metadata": {
        "id": "FTVYXH-88Uof"
      },
      "source": [
        "for i in range(1, 6, 1):\n",
        "    print(i)\n",
        "    if i == 3:\n",
        "        continue"
      ],
      "execution_count": null,
      "outputs": []
    },
    {
      "cell_type": "markdown",
      "metadata": {
        "id": "taR6H3QUTn53"
      },
      "source": [
        "# Practice Program\n",
        "\n",
        "1. Write a python program that takes an integer as input and print all its divisors using loop\n",
        "2. Write a python program that takes an integer as input and check whether the number is Prime or not"
      ]
    },
    {
      "cell_type": "markdown",
      "metadata": {
        "id": "Y36gOoNJUo5d"
      },
      "source": [
        "# Task"
      ]
    },
    {
      "cell_type": "markdown",
      "metadata": {
        "id": "mWAIwaqlUqk3"
      },
      "source": [
        "1. Write a program that takes *n* numbers as input and find their average using loop.\n",
        "\n",
        "2. Write a program that takes two numbers **base** and **power** as input. The program\n",
        "will calculate the **power** raised to the **base** value using loop."
      ]
    }
  ]
}
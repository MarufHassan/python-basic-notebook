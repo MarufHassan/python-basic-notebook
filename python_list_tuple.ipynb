{
  "nbformat": 4,
  "nbformat_minor": 0,
  "metadata": {
    "colab": {
      "name": "python-list-tuple.ipynb",
      "provenance": [],
      "toc_visible": true
    },
    "kernelspec": {
      "name": "python3",
      "display_name": "Python 3"
    },
    "language_info": {
      "name": "python"
    }
  },
  "cells": [
    {
      "cell_type": "markdown",
      "metadata": {
        "id": "tBhc465QDr7U"
      },
      "source": [
        "# Python Collections (Arrays)"
      ]
    },
    {
      "cell_type": "markdown",
      "metadata": {
        "id": "ts4RqhlXD9-u"
      },
      "source": [
        "There are four collection data types in the Python programming language:\n",
        "\n",
        "- **List** is a collection which is ordered and changeable. Allows duplicate members.\n",
        "- **Tuple** is a collection which is ordered and unchangeable. Allows duplicate members.\n",
        "- **Set** is a collection which is unordered and unindexed. No duplicate members.\n",
        "- **Dictionary** is a collection which is ordered* and changeable. No duplicate members."
      ]
    },
    {
      "cell_type": "markdown",
      "metadata": {
        "id": "uN30JKm7EMes"
      },
      "source": [
        "# List\n",
        "\n",
        "- In Python programming, a list is created by placing all the items (elements) inside square brackets `[]`, separated by commas.\n",
        "\n",
        "- It can have any number of items and they may be of different types (integer, float, string etc.)."
      ]
    },
    {
      "cell_type": "markdown",
      "metadata": {
        "id": "d75b5CAmFdfr"
      },
      "source": [
        "## Create a List"
      ]
    },
    {
      "cell_type": "markdown",
      "metadata": {
        "id": "E-m7RuNzGipJ"
      },
      "source": [
        "### List of integers"
      ]
    },
    {
      "cell_type": "code",
      "metadata": {
        "colab": {
          "base_uri": "https://localhost:8080/"
        },
        "id": "GCs5mc6BDrWH",
        "outputId": "4f12b207-7220-4354-b380-7cb9f046469c"
      },
      "source": [
        "numbers = [10, 20, 50, 30, 40]\n",
        "print(numbers)"
      ],
      "execution_count": 1,
      "outputs": [
        {
          "output_type": "stream",
          "text": [
            "[10, 20, 50, 30, 40]\n"
          ],
          "name": "stdout"
        }
      ]
    },
    {
      "cell_type": "markdown",
      "metadata": {
        "id": "KtT_x13fGl2q"
      },
      "source": [
        "### List of string"
      ]
    },
    {
      "cell_type": "code",
      "metadata": {
        "colab": {
          "base_uri": "https://localhost:8080/"
        },
        "id": "xZJHy6IQDlIz",
        "outputId": "c3a2150f-1555-48b7-c282-f596aea3012f"
      },
      "source": [
        "fruits = [\"mango\", \"banana\", \"jackfruit\", \"apple\", \"cherry\"]\n",
        "print(fruits)"
      ],
      "execution_count": 2,
      "outputs": [
        {
          "output_type": "stream",
          "text": [
            "['mango', 'banana', 'jackfruit', 'apple', 'cherry']\n"
          ],
          "name": "stdout"
        }
      ]
    },
    {
      "cell_type": "markdown",
      "metadata": {
        "id": "2ekrWpflHJJa"
      },
      "source": [
        "### List of mixed data types"
      ]
    },
    {
      "cell_type": "code",
      "metadata": {
        "colab": {
          "base_uri": "https://localhost:8080/"
        },
        "id": "05oAR1vcHLL6",
        "outputId": "eeabf1c3-991b-45e2-88e7-8c29ad2613bf"
      },
      "source": [
        "mixed = [\"mango\", 10, \"banana\", \"apple\", 20]\n",
        "print(mixed)"
      ],
      "execution_count": 3,
      "outputs": [
        {
          "output_type": "stream",
          "text": [
            "['mango', 10, 'banana', 'apple', 20]\n"
          ],
          "name": "stdout"
        }
      ]
    },
    {
      "cell_type": "markdown",
      "metadata": {
        "id": "kScONT2pJxrP"
      },
      "source": [
        "## List Length"
      ]
    },
    {
      "cell_type": "code",
      "metadata": {
        "colab": {
          "base_uri": "https://localhost:8080/"
        },
        "id": "5ViuFyW9J08I",
        "outputId": "d26707f0-0f2c-4122-f727-ff240f577e9a"
      },
      "source": [
        "fruits = [\"mango\", \"banana\", \"jackfruit\", \"apple\", \"cherry\"]\n",
        "len(fruits)"
      ],
      "execution_count": 4,
      "outputs": [
        {
          "output_type": "execute_result",
          "data": {
            "text/plain": [
              "5"
            ]
          },
          "metadata": {
            "tags": []
          },
          "execution_count": 4
        }
      ]
    },
    {
      "cell_type": "markdown",
      "metadata": {
        "id": "LXxewIjFHzMr"
      },
      "source": [
        "## Access List Elements"
      ]
    },
    {
      "cell_type": "markdown",
      "metadata": {
        "id": "UrVF7qlBH7Ty"
      },
      "source": [
        "We can use the index operator `[]` to access an item in a list. Indices start at 0. So, a list having 5 elements will have an index from 0 to 4."
      ]
    },
    {
      "cell_type": "code",
      "metadata": {
        "colab": {
          "base_uri": "https://localhost:8080/"
        },
        "id": "WSBFivggIKeY",
        "outputId": "bd82b866-2552-4654-92de-ca6bb1fcd0a8"
      },
      "source": [
        "fruits = [\"mango\", \"banana\", \"jackfruit\", \"apple\", \"cherry\"]\n",
        "print(fruits[0])\n",
        "print(fruits[1])\n",
        "print(fruits[2])\n",
        "print(fruits[3])\n",
        "print(fruits[4])"
      ],
      "execution_count": 5,
      "outputs": [
        {
          "output_type": "stream",
          "text": [
            "mango\n",
            "banana\n",
            "jackfruit\n",
            "apple\n",
            "cherry\n"
          ],
          "name": "stdout"
        }
      ]
    },
    {
      "cell_type": "markdown",
      "metadata": {
        "id": "ZHmDBIvPIQ0Q"
      },
      "source": [
        "Trying to access indexes other than these will raise an `IndexError`."
      ]
    },
    {
      "cell_type": "code",
      "metadata": {
        "colab": {
          "base_uri": "https://localhost:8080/",
          "height": 185
        },
        "id": "zJLmuPASISfg",
        "outputId": "ba8e8bcb-7e04-4d68-e043-b4f27627dced"
      },
      "source": [
        "fruits = [\"mango\", \"banana\", \"jackfruit\", \"apple\", \"cherry\"]\n",
        "print(fruits[5])"
      ],
      "execution_count": 6,
      "outputs": [
        {
          "output_type": "error",
          "ename": "IndexError",
          "evalue": "ignored",
          "traceback": [
            "\u001b[0;31m---------------------------------------------------------------------------\u001b[0m",
            "\u001b[0;31mIndexError\u001b[0m                                Traceback (most recent call last)",
            "\u001b[0;32m<ipython-input-6-aa94e1fffc6e>\u001b[0m in \u001b[0;36m<module>\u001b[0;34m()\u001b[0m\n\u001b[1;32m      1\u001b[0m \u001b[0mfruits\u001b[0m \u001b[0;34m=\u001b[0m \u001b[0;34m[\u001b[0m\u001b[0;34m\"mango\"\u001b[0m\u001b[0;34m,\u001b[0m \u001b[0;34m\"banana\"\u001b[0m\u001b[0;34m,\u001b[0m \u001b[0;34m\"jackfruit\"\u001b[0m\u001b[0;34m,\u001b[0m \u001b[0;34m\"apple\"\u001b[0m\u001b[0;34m,\u001b[0m \u001b[0;34m\"cherry\"\u001b[0m\u001b[0;34m]\u001b[0m\u001b[0;34m\u001b[0m\u001b[0;34m\u001b[0m\u001b[0m\n\u001b[0;32m----> 2\u001b[0;31m \u001b[0mprint\u001b[0m\u001b[0;34m(\u001b[0m\u001b[0mfruits\u001b[0m\u001b[0;34m[\u001b[0m\u001b[0;36m5\u001b[0m\u001b[0;34m]\u001b[0m\u001b[0;34m)\u001b[0m\u001b[0;34m\u001b[0m\u001b[0;34m\u001b[0m\u001b[0m\n\u001b[0m",
            "\u001b[0;31mIndexError\u001b[0m: list index out of range"
          ]
        }
      ]
    },
    {
      "cell_type": "markdown",
      "metadata": {
        "id": "hZmrClWVJHbp"
      },
      "source": [
        "## Negative indexing"
      ]
    },
    {
      "cell_type": "markdown",
      "metadata": {
        "id": "MaUqwzZuJMPI"
      },
      "source": [
        "Python allows negative indexing for its sequences. The index of -1 refers to the last item, -2 to the second last item and so on."
      ]
    },
    {
      "cell_type": "code",
      "metadata": {
        "colab": {
          "base_uri": "https://localhost:8080/"
        },
        "id": "9d7ChxE0JOmX",
        "outputId": "af4bb1f2-3da1-4ee2-8b5a-de90ccf21636"
      },
      "source": [
        "fruits = [\"mango\", \"banana\", \"jackfruit\", \"apple\", \"cherry\"]\n",
        "print(fruits[-1])\n",
        "print(fruits[-2])\n",
        "print(fruits[-3])\n",
        "print(fruits[-4])\n",
        "print(fruits[-5])"
      ],
      "execution_count": 7,
      "outputs": [
        {
          "output_type": "stream",
          "text": [
            "cherry\n",
            "apple\n",
            "jackfruit\n",
            "banana\n",
            "mango\n"
          ],
          "name": "stdout"
        }
      ]
    },
    {
      "cell_type": "markdown",
      "metadata": {
        "id": "SHNq0cdjIYRY"
      },
      "source": [
        "## Iterating Through a List"
      ]
    },
    {
      "cell_type": "markdown",
      "metadata": {
        "id": "4cEvk2ZlIusA"
      },
      "source": [
        "Using a `for` loop we can iterate through each item in a list."
      ]
    },
    {
      "cell_type": "code",
      "metadata": {
        "colab": {
          "base_uri": "https://localhost:8080/"
        },
        "id": "LF9QBZrTI33w",
        "outputId": "fa50d1bf-0f88-480c-daaa-bbe21a5c6889"
      },
      "source": [
        "fruits = [\"mango\", \"banana\", \"jackfruit\", \"apple\", \"cherry\"]\n",
        "for fruit in fruits:\n",
        "    print(\"I like\", fruit)"
      ],
      "execution_count": 8,
      "outputs": [
        {
          "output_type": "stream",
          "text": [
            "I like mango\n",
            "I like banana\n",
            "I like jackfruit\n",
            "I like apple\n",
            "I like cherry\n"
          ],
          "name": "stdout"
        }
      ]
    },
    {
      "cell_type": "markdown",
      "metadata": {
        "id": "cRlABM8gLRcR"
      },
      "source": [
        "## Slicing List"
      ]
    },
    {
      "cell_type": "markdown",
      "metadata": {
        "id": "PX6eVwn9LePf"
      },
      "source": [
        "We can access a range of items in a list by using the slicing operator `:`(colon)."
      ]
    },
    {
      "cell_type": "markdown",
      "metadata": {
        "id": "DnOLiXZjL3o5"
      },
      "source": [
        "**Example**\n",
        "\n",
        "Get the colors from position 1 to position 5 (not included):"
      ]
    },
    {
      "cell_type": "code",
      "metadata": {
        "colab": {
          "base_uri": "https://localhost:8080/"
        },
        "id": "aFSwgk7FLzn2",
        "outputId": "12b01cc3-094b-4eae-c020-e0c4800b5130"
      },
      "source": [
        "colors = ['red', 'green', 'blue', 'yellow', 'white', 'black']\n",
        "new_colors = colors[1:5]\n",
        "print(new_colors)"
      ],
      "execution_count": 9,
      "outputs": [
        {
          "output_type": "stream",
          "text": [
            "['green', 'blue', 'yellow', 'white']\n"
          ],
          "name": "stdout"
        }
      ]
    },
    {
      "cell_type": "markdown",
      "metadata": {
        "id": "YaWCgWZVMSWX"
      },
      "source": [
        "### Slice From the Start\n",
        "\n",
        "By leaving out the start index, the range will start at the first position:"
      ]
    },
    {
      "cell_type": "markdown",
      "metadata": {
        "id": "DL9cadEDMhQG"
      },
      "source": [
        "**Example**\n",
        "\n",
        "Get the colors from the start to position 5 (not included):"
      ]
    },
    {
      "cell_type": "code",
      "metadata": {
        "colab": {
          "base_uri": "https://localhost:8080/"
        },
        "id": "hAGAF6TLMk0O",
        "outputId": "1df53077-308a-4cd8-c163-3299a5c9e06c"
      },
      "source": [
        "colors = ['red', 'green', 'blue', 'yellow', 'white', 'black']\n",
        "new_colors = colors[:5]\n",
        "print(new_colors)"
      ],
      "execution_count": 10,
      "outputs": [
        {
          "output_type": "stream",
          "text": [
            "['red', 'green', 'blue', 'yellow', 'white']\n"
          ],
          "name": "stdout"
        }
      ]
    },
    {
      "cell_type": "markdown",
      "metadata": {
        "id": "XTvFqZ6QMpvd"
      },
      "source": [
        "### Slice To the End\n",
        "\n",
        "**Example**\n",
        "\n",
        "Get the characters from position 3, and all the way to the end:"
      ]
    },
    {
      "cell_type": "code",
      "metadata": {
        "colab": {
          "base_uri": "https://localhost:8080/"
        },
        "id": "3r2phv0uM0Eu",
        "outputId": "ef502b17-f955-40b0-a438-15956d72bdef"
      },
      "source": [
        "colors = ['red', 'green', 'blue', 'yellow', 'white', 'black']\n",
        "new_colors = colors[3:]\n",
        "print(new_colors)"
      ],
      "execution_count": 11,
      "outputs": [
        {
          "output_type": "stream",
          "text": [
            "['yellow', 'white', 'black']\n"
          ],
          "name": "stdout"
        }
      ]
    },
    {
      "cell_type": "markdown",
      "metadata": {
        "id": "ovTwuopeNm2a"
      },
      "source": [
        "## List Methods"
      ]
    },
    {
      "cell_type": "markdown",
      "metadata": {
        "id": "6TYZ_6GmNqfF"
      },
      "source": [
        "### Append Items: `append()`\n",
        "\n",
        "To add an item to the end of the list, use the `append()` method:"
      ]
    },
    {
      "cell_type": "code",
      "metadata": {
        "colab": {
          "base_uri": "https://localhost:8080/"
        },
        "id": "4V_VCyeiN7rt",
        "outputId": "73b866b2-40e9-45a3-c1b5-ece52ad41ea7"
      },
      "source": [
        "fruits = [\"mango\", \"banana\", \"jackfruit\", \"apple\", \"cherry\"]\n",
        "fruits.append(\"orange\")\n",
        "print(fruits)"
      ],
      "execution_count": 12,
      "outputs": [
        {
          "output_type": "stream",
          "text": [
            "['mango', 'banana', 'jackfruit', 'apple', 'cherry', 'orange']\n"
          ],
          "name": "stdout"
        }
      ]
    },
    {
      "cell_type": "markdown",
      "metadata": {
        "id": "7FwJ5_E2QGYc"
      },
      "source": [
        "### Remove Specified Item : `remove()`\n",
        "\n",
        "The `remove()` method removes the specified item."
      ]
    },
    {
      "cell_type": "code",
      "metadata": {
        "colab": {
          "base_uri": "https://localhost:8080/"
        },
        "id": "o7UIHJDaQRWn",
        "outputId": "2c13416a-5feb-4659-d94c-ee1b0d53d450"
      },
      "source": [
        "fruits = [\"mango\", \"banana\", \"jackfruit\", \"apple\", \"cherry\"]\n",
        "fruits.remove(\"banana\")\n",
        "print(fruits)"
      ],
      "execution_count": 13,
      "outputs": [
        {
          "output_type": "stream",
          "text": [
            "['mango', 'jackfruit', 'apple', 'cherry']\n"
          ],
          "name": "stdout"
        }
      ]
    },
    {
      "cell_type": "markdown",
      "metadata": {
        "id": "Pv-kO1mdSmT8"
      },
      "source": [
        "More List methods can be found in the following link.\n",
        "\n",
        "https://www.w3schools.com/python/python_lists_methods.asp"
      ]
    },
    {
      "cell_type": "markdown",
      "metadata": {
        "id": "aPBUiMTmW2go"
      },
      "source": [
        "# Tuples"
      ]
    },
    {
      "cell_type": "markdown",
      "metadata": {
        "id": "dnbGbZoTXPbx"
      },
      "source": [
        "A tuple is a collection which is ordered and **unchangeable**."
      ]
    },
    {
      "cell_type": "markdown",
      "metadata": {
        "id": "hLyRsosmXZHP"
      },
      "source": [
        "**Example:**"
      ]
    },
    {
      "cell_type": "code",
      "metadata": {
        "colab": {
          "base_uri": "https://localhost:8080/"
        },
        "id": "aN_G6bkBXcJv",
        "outputId": "65604e69-068e-40e2-ecda-5173b8a82d75"
      },
      "source": [
        "mytuple = (\"apple\", \"banana\", \"cherry\")\n",
        "print(mytuple)"
      ],
      "execution_count": 14,
      "outputs": [
        {
          "output_type": "stream",
          "text": [
            "('apple', 'banana', 'cherry')\n"
          ],
          "name": "stdout"
        }
      ]
    },
    {
      "cell_type": "markdown",
      "metadata": {
        "id": "v_CgzNjvXmDf"
      },
      "source": [
        "Tuple items can not be changed"
      ]
    },
    {
      "cell_type": "code",
      "metadata": {
        "colab": {
          "base_uri": "https://localhost:8080/",
          "height": 185
        },
        "id": "Lh6SzAYYXoh_",
        "outputId": "ffe311e9-f91a-4229-ea75-d6b011237ba2"
      },
      "source": [
        "mytuple = (\"apple\", \"banana\", \"cherry\")\n",
        "mytuple[0] = \"orange\""
      ],
      "execution_count": 15,
      "outputs": [
        {
          "output_type": "error",
          "ename": "TypeError",
          "evalue": "ignored",
          "traceback": [
            "\u001b[0;31m---------------------------------------------------------------------------\u001b[0m",
            "\u001b[0;31mTypeError\u001b[0m                                 Traceback (most recent call last)",
            "\u001b[0;32m<ipython-input-15-c93cb14c1c7a>\u001b[0m in \u001b[0;36m<module>\u001b[0;34m()\u001b[0m\n\u001b[1;32m      1\u001b[0m \u001b[0mmytuple\u001b[0m \u001b[0;34m=\u001b[0m \u001b[0;34m(\u001b[0m\u001b[0;34m\"apple\"\u001b[0m\u001b[0;34m,\u001b[0m \u001b[0;34m\"banana\"\u001b[0m\u001b[0;34m,\u001b[0m \u001b[0;34m\"cherry\"\u001b[0m\u001b[0;34m)\u001b[0m\u001b[0;34m\u001b[0m\u001b[0;34m\u001b[0m\u001b[0m\n\u001b[0;32m----> 2\u001b[0;31m \u001b[0mmytuple\u001b[0m\u001b[0;34m[\u001b[0m\u001b[0;36m0\u001b[0m\u001b[0;34m]\u001b[0m \u001b[0;34m=\u001b[0m \u001b[0;34m\"orange\"\u001b[0m\u001b[0;34m\u001b[0m\u001b[0;34m\u001b[0m\u001b[0m\n\u001b[0m",
            "\u001b[0;31mTypeError\u001b[0m: 'tuple' object does not support item assignment"
          ]
        }
      ]
    }
  ]
}
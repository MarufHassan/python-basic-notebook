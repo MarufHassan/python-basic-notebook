{
  "nbformat": 4,
  "nbformat_minor": 0,
  "metadata": {
    "colab": {
      "name": "python_set_dictionary.ipynb",
      "provenance": [],
      "collapsed_sections": [],
      "toc_visible": true
    },
    "kernelspec": {
      "name": "python3",
      "display_name": "Python 3"
    },
    "language_info": {
      "name": "python"
    }
  },
  "cells": [
    {
      "cell_type": "markdown",
      "metadata": {
        "id": "8qIFzjQKeZjK"
      },
      "source": [
        "# Python Dictionaries"
      ]
    },
    {
      "cell_type": "markdown",
      "metadata": {
        "id": "Ak5LKdqnesb5"
      },
      "source": [
        "- Dictionaries are used to store data values in key:value pairs.\n",
        "- Dictionaries are written with curly brackets, and have keys and values:"
      ]
    },
    {
      "cell_type": "markdown",
      "metadata": {
        "id": "wAnxQQt9hnJI"
      },
      "source": [
        "## Creating Python Dictionary"
      ]
    },
    {
      "cell_type": "markdown",
      "metadata": {
        "id": "1JRqRkAPfis_"
      },
      "source": [
        "**Example 1**\n",
        "\n",
        "Create and print a dictionary:"
      ]
    },
    {
      "cell_type": "code",
      "metadata": {
        "colab": {
          "base_uri": "https://localhost:8080/"
        },
        "id": "bfqbqOEteSVJ",
        "outputId": "5c9b0f7a-f39f-4e41-f04f-f78d11c392c6"
      },
      "source": [
        "laptop = {\n",
        "    \"brand\" : \"asus\",\n",
        "    \"model\" : \"x510uqr\",\n",
        "    \"price\" : 64500\n",
        "}\n",
        "print(laptop)"
      ],
      "execution_count": null,
      "outputs": [
        {
          "output_type": "stream",
          "text": [
            "{'brand': 'asus', 'model': 'x510uqr', 'price': 64500}\n"
          ],
          "name": "stdout"
        }
      ]
    },
    {
      "cell_type": "markdown",
      "metadata": {
        "id": "ohgyDc6Yf3H4"
      },
      "source": [
        "Here, the `keys` of the dictionary are: `brand`, `model`, `price`"
      ]
    },
    {
      "cell_type": "markdown",
      "metadata": {
        "id": "aIXBnkp5gau5"
      },
      "source": [
        "**Example 2**\n",
        "\n",
        "Create and print a dictionary:"
      ]
    },
    {
      "cell_type": "code",
      "metadata": {
        "colab": {
          "base_uri": "https://localhost:8080/"
        },
        "id": "dV0LL-asgbGn",
        "outputId": "12afd843-76e6-4405-cf86-14631253222f"
      },
      "source": [
        "capitals = { \"Bangladesh\" : \"Dhaka\", \"USA\" : \"Washington D.C.\", \"India\":\"New Delhi\"}\n",
        "print(capitals)"
      ],
      "execution_count": null,
      "outputs": [
        {
          "output_type": "stream",
          "text": [
            "{'Bangladesh': 'Dhaka', 'USA': 'Washington D.C.', 'India': 'New Delhi'}\n"
          ],
          "name": "stdout"
        }
      ]
    },
    {
      "cell_type": "markdown",
      "metadata": {
        "id": "RzfBRJEHgtLu"
      },
      "source": [
        "Here, the `keys` of the dictionary are: `Bangladesh`, `USA`, `India`"
      ]
    },
    {
      "cell_type": "markdown",
      "metadata": {
        "id": "ttJS7HGHhNWf"
      },
      "source": [
        "**Example 3**\n",
        "\n",
        "Create and print a dictionary:"
      ]
    },
    {
      "cell_type": "code",
      "metadata": {
        "colab": {
          "base_uri": "https://localhost:8080/"
        },
        "id": "S0As8NsVhMFR",
        "outputId": "b8b34bf1-3d36-494f-9878-cf370bc0ac29"
      },
      "source": [
        "number_names = {\n",
        "    1 : \"One\",\n",
        "    2 : \"Two\",\n",
        "    3 : \"Three\",\n",
        "    4 : \"Four\",\n",
        "    5 : \"Five\"\n",
        "}\n",
        "print(number_names)"
      ],
      "execution_count": null,
      "outputs": [
        {
          "output_type": "stream",
          "text": [
            "{1: 'One', 2: 'Two', 3: 'Three', 4: 'Four', 5: 'Five'}\n"
          ],
          "name": "stdout"
        }
      ]
    },
    {
      "cell_type": "markdown",
      "metadata": {
        "id": "PCqNv67ihptn"
      },
      "source": [
        "## Accessing Elements from Dictionary"
      ]
    },
    {
      "cell_type": "markdown",
      "metadata": {
        "id": "wBM7X3mJhy_v"
      },
      "source": [
        "Dictionary items are presented in key:value pairs, and can be referred to by using the key name."
      ]
    },
    {
      "cell_type": "markdown",
      "metadata": {
        "id": "wleG9-lvh0b_"
      },
      "source": [
        "**Example 1:**\n",
        "Print the \"brand\" and \"price\" value of the dictionary:"
      ]
    },
    {
      "cell_type": "code",
      "metadata": {
        "colab": {
          "base_uri": "https://localhost:8080/"
        },
        "id": "engjEPfrh5er",
        "outputId": "3fecb0f4-4514-4f2e-fe75-7e0f202b0354"
      },
      "source": [
        "laptop = {\n",
        "    \"brand\" : \"asus\",\n",
        "    \"model\" : \"x510uqr\",\n",
        "    \"price\" : 64500\n",
        "}\n",
        "print(\"Laptop brand is:\", laptop[\"brand\"])\n",
        "print(\"Laptop price is:\", laptop[\"price\"])"
      ],
      "execution_count": null,
      "outputs": [
        {
          "output_type": "stream",
          "text": [
            "Laptop brand is: asus\n",
            "Laptop price is: 64500\n"
          ],
          "name": "stdout"
        }
      ]
    },
    {
      "cell_type": "markdown",
      "metadata": {
        "id": "9SzLxEmylHjt"
      },
      "source": [
        "## Access Dictionary using For Loop"
      ]
    },
    {
      "cell_type": "markdown",
      "metadata": {
        "id": "MVgO9UZalLtU"
      },
      "source": [
        "Use the for loop to iterate a dictionary in the Python."
      ]
    },
    {
      "cell_type": "code",
      "metadata": {
        "colab": {
          "base_uri": "https://localhost:8080/"
        },
        "id": "tywwd_nQlRiM",
        "outputId": "f454f724-bf53-4401-f588-35bbf6e60ef1"
      },
      "source": [
        "capitals = { \"Bangladesh\" : \"Dhaka\", \"USA\" : \"Washington D.C.\", \"India\":\"New Delhi\"}\n",
        "\n",
        "for key in capitals:\n",
        "    print(\"Capital of\", key, \"is\", capitals[key])"
      ],
      "execution_count": null,
      "outputs": [
        {
          "output_type": "stream",
          "text": [
            "Capital of Bangladesh is Dhaka\n",
            "Capital of USA is Washington D.C.\n",
            "Capital of India is New Delhi\n"
          ],
          "name": "stdout"
        }
      ]
    },
    {
      "cell_type": "markdown",
      "metadata": {
        "id": "hXevoiuSiubu"
      },
      "source": [
        "## Dictionary Length\n",
        "\n",
        "To determine how many items a dictionary has, use the `len()` function:"
      ]
    },
    {
      "cell_type": "markdown",
      "metadata": {
        "id": "Ry9-UIjHi9Pu"
      },
      "source": [
        "**Example 1**\n",
        "\n",
        "Print the number of items in the dictionary:"
      ]
    },
    {
      "cell_type": "code",
      "metadata": {
        "colab": {
          "base_uri": "https://localhost:8080/"
        },
        "id": "niBgaFoNi3sn",
        "outputId": "9bcd1288-3899-4044-ef4e-c5f0fc4473b5"
      },
      "source": [
        "capitals = { \"Bangladesh\" : \"Dhaka\", \"USA\" : \"Washington D.C.\", \"India\":\"New Delhi\"}\n",
        "print(len(capitals))"
      ],
      "execution_count": null,
      "outputs": [
        {
          "output_type": "stream",
          "text": [
            "3\n"
          ],
          "name": "stdout"
        }
      ]
    },
    {
      "cell_type": "markdown",
      "metadata": {
        "id": "Y2UXd52fjKm-"
      },
      "source": [
        "**Example 2**\n",
        "\n",
        "Print the number of items in the dictionary:"
      ]
    },
    {
      "cell_type": "code",
      "metadata": {
        "colab": {
          "base_uri": "https://localhost:8080/"
        },
        "id": "sP5ihRhxjLDF",
        "outputId": "3d1e3e21-7455-45a3-8ae2-d2e7923dabbd"
      },
      "source": [
        "number_names = {\n",
        "    1 : \"One\",\n",
        "    2 : \"Two\",\n",
        "    3 : \"Three\",\n",
        "    4 : \"Four\",\n",
        "    5 : \"Five\"\n",
        "}\n",
        "print(len(number_names))"
      ],
      "execution_count": null,
      "outputs": [
        {
          "output_type": "stream",
          "text": [
            "5\n"
          ],
          "name": "stdout"
        }
      ]
    },
    {
      "cell_type": "markdown",
      "metadata": {
        "id": "GAYyApktjYel"
      },
      "source": [
        "## Changing and Adding Dictionary elements"
      ]
    },
    {
      "cell_type": "markdown",
      "metadata": {
        "id": "BLs9Snuuj63U"
      },
      "source": [
        "If the key is already present, then the existing value gets updated. In case the key is not present, a new (key: value) pair is added to the dictionary."
      ]
    },
    {
      "cell_type": "markdown",
      "metadata": {
        "id": "4DMT9T1YjbB1"
      },
      "source": [
        "Update dictionary value on a specific key. "
      ]
    },
    {
      "cell_type": "code",
      "metadata": {
        "colab": {
          "base_uri": "https://localhost:8080/"
        },
        "id": "dY3fOw5EjkbA",
        "outputId": "332d094c-3a3a-405b-e2af-db0bbb1d6e8b"
      },
      "source": [
        "capitals = { \"Bangladesh\" : \"Dhaka\", \"USA\" : \"Washington D.C.\", \"India\" : \"New Delhi\"}\n",
        "capitals[\"India\"] = \"Delhi\"\n",
        "print(capitals)"
      ],
      "execution_count": null,
      "outputs": [
        {
          "output_type": "stream",
          "text": [
            "{'Bangladesh': 'Dhaka', 'USA': 'Washington D.C.', 'India': 'Delhi'}\n"
          ],
          "name": "stdout"
        }
      ]
    },
    {
      "cell_type": "markdown",
      "metadata": {
        "id": "kgtAKuNJj1LS"
      },
      "source": [
        "add new values"
      ]
    },
    {
      "cell_type": "code",
      "metadata": {
        "colab": {
          "base_uri": "https://localhost:8080/"
        },
        "id": "VbxlaTP6kD3A",
        "outputId": "1289dbf5-e985-4be1-fe7d-9cf100549b71"
      },
      "source": [
        "capitals = { \"Bangladesh\" : \"Dhaka\", \"USA\" : \"Washington D.C.\", \"India\" : \"New Delhi\"}\n",
        "capitals[\"Thailand\"] = \"Bangkok\"\n",
        "print(capitals)"
      ],
      "execution_count": null,
      "outputs": [
        {
          "output_type": "stream",
          "text": [
            "{'Bangladesh': 'Dhaka', 'USA': 'Washington D.C.', 'India': 'New Delhi', 'Thailand': 'Bangkok'}\n"
          ],
          "name": "stdout"
        }
      ]
    },
    {
      "cell_type": "markdown",
      "metadata": {
        "id": "3pKB6EF3kkOM"
      },
      "source": [
        "## Remove Dictionary Items\n",
        "\n",
        "The `pop()` method removes the item with the specified key name:"
      ]
    },
    {
      "cell_type": "code",
      "metadata": {
        "colab": {
          "base_uri": "https://localhost:8080/"
        },
        "id": "t1f7sSiWkq_d",
        "outputId": "f864be2a-cc0a-46a0-f5c6-ea39fb905198"
      },
      "source": [
        "capitals = { \"Bangladesh\" : \"Dhaka\", \"USA\" : \"Washington D.C.\", \"India\" : \"New Delhi\"}\n",
        "capitals.pop('USA')\n",
        "print(capitals)"
      ],
      "execution_count": null,
      "outputs": [
        {
          "output_type": "stream",
          "text": [
            "{'Bangladesh': 'Dhaka', 'India': 'New Delhi'}\n"
          ],
          "name": "stdout"
        }
      ]
    },
    {
      "cell_type": "markdown",
      "metadata": {
        "id": "5oThzT_nln_J"
      },
      "source": [
        "More dictionary methods can be found in the following link\n",
        "\n",
        "https://www.w3schools.com/python/python_dictionaries_methods.asp"
      ]
    },
    {
      "cell_type": "markdown",
      "metadata": {
        "id": "6lmWQADJmBN8"
      },
      "source": [
        "## Example: Get the frequency of the elements in a list"
      ]
    },
    {
      "cell_type": "markdown",
      "metadata": {
        "id": "f4YhylTrnOpM"
      },
      "source": [
        "Write a Python program to get the frequency of the characters in a string."
      ]
    },
    {
      "cell_type": "code",
      "metadata": {
        "colab": {
          "base_uri": "https://localhost:8080/"
        },
        "id": "A5FExBMsmKVE",
        "outputId": "040cd8d4-580a-49ec-e85a-4bf8048c15bf"
      },
      "source": [
        "text = 'our destiny lies above us'\n",
        "frequency = {}\n",
        "\n",
        "for ch in text:\n",
        "    if ch in frequency:\n",
        "        frequency[ch] += 1\n",
        "    else:\n",
        "        frequency[ch] = 1\n",
        "print(frequency)"
      ],
      "execution_count": null,
      "outputs": [
        {
          "output_type": "stream",
          "text": [
            "{'o': 2, 'u': 2, 'r': 1, ' ': 4, 'd': 1, 'e': 3, 's': 3, 't': 1, 'i': 2, 'n': 1, 'y': 1, 'l': 1, 'a': 1, 'b': 1, 'v': 1}\n"
          ],
          "name": "stdout"
        }
      ]
    },
    {
      "cell_type": "markdown",
      "metadata": {
        "id": "LRiMmcd8nSk7"
      },
      "source": [
        "# Python Set"
      ]
    },
    {
      "cell_type": "markdown",
      "metadata": {
        "id": "UbnOWaZ_ngVj"
      },
      "source": [
        "- Sets are used to store multiple items in a single variable.\n",
        "- A set is a collection which is both unordered and unindexed.\n",
        "- Sets are written with curly brackets."
      ]
    },
    {
      "cell_type": "code",
      "metadata": {
        "colab": {
          "base_uri": "https://localhost:8080/"
        },
        "id": "-Pb8u-mVnnwL",
        "outputId": "ccb7498b-c9b9-4fa0-e718-5483adffaea7"
      },
      "source": [
        "fruits = {\"apple\", \"banana\", \"cherry\"}\n",
        "print(fruits)"
      ],
      "execution_count": null,
      "outputs": [
        {
          "output_type": "stream",
          "text": [
            "{'apple', 'cherry', 'banana'}\n"
          ],
          "name": "stdout"
        }
      ]
    },
    {
      "cell_type": "markdown",
      "metadata": {
        "id": "ACogXvd7nnZC"
      },
      "source": [
        "**Duplicates Not Allowed**"
      ]
    },
    {
      "cell_type": "code",
      "metadata": {
        "colab": {
          "base_uri": "https://localhost:8080/"
        },
        "id": "fBtWcE6Wnv7a",
        "outputId": "ed9b5b6d-c62f-4b45-e227-f12841a82686"
      },
      "source": [
        "fruits = {\"apple\", \"banana\", \"cherry\", \"apple\"}\n",
        "print(fruits)"
      ],
      "execution_count": null,
      "outputs": [
        {
          "output_type": "stream",
          "text": [
            "{'apple', 'cherry', 'banana'}\n"
          ],
          "name": "stdout"
        }
      ]
    },
    {
      "cell_type": "markdown",
      "metadata": {
        "id": "XP5e3PL5n9Pp"
      },
      "source": [
        "**set items are unindexed**"
      ]
    },
    {
      "cell_type": "code",
      "metadata": {
        "colab": {
          "base_uri": "https://localhost:8080/",
          "height": 167
        },
        "id": "scPWVFIfoB_8",
        "outputId": "e42f525c-894f-4f9a-fe6e-592172a00393"
      },
      "source": [
        "fruits[0]"
      ],
      "execution_count": null,
      "outputs": [
        {
          "output_type": "error",
          "ename": "TypeError",
          "evalue": "ignored",
          "traceback": [
            "\u001b[0;31m---------------------------------------------------------------------------\u001b[0m",
            "\u001b[0;31mTypeError\u001b[0m                                 Traceback (most recent call last)",
            "\u001b[0;32m<ipython-input-24-98ea8473cce4>\u001b[0m in \u001b[0;36m<module>\u001b[0;34m()\u001b[0m\n\u001b[0;32m----> 1\u001b[0;31m \u001b[0mfruits\u001b[0m\u001b[0;34m[\u001b[0m\u001b[0;36m0\u001b[0m\u001b[0;34m]\u001b[0m\u001b[0;34m\u001b[0m\u001b[0;34m\u001b[0m\u001b[0m\n\u001b[0m",
            "\u001b[0;31mTypeError\u001b[0m: 'set' object is not subscriptable"
          ]
        }
      ]
    }
  ]
}
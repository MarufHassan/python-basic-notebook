{
  "nbformat": 4,
  "nbformat_minor": 0,
  "metadata": {
    "colab": {
      "name": "python_string_function.ipynb",
      "provenance": []
    },
    "kernelspec": {
      "name": "python3",
      "display_name": "Python 3"
    }
  },
  "cells": [
    {
      "cell_type": "markdown",
      "metadata": {
        "id": "gW1CP2qBp1M2"
      },
      "source": [
        "# String function"
      ]
    },
    {
      "cell_type": "markdown",
      "metadata": {
        "id": "SYBA5EosqC0O"
      },
      "source": [
        "## isupper()\n",
        "\n",
        "- The **isupper()** method returns True if all the characters are in upper case, otherwise False.\n",
        "\n",
        "- Numbers, symbols and spaces are not checked, only alphabet characters."
      ]
    },
    {
      "cell_type": "markdown",
      "metadata": {
        "id": "CX-mSczFqcTO"
      },
      "source": [
        "Check if all the characters in the texts are in upper case:"
      ]
    },
    {
      "cell_type": "code",
      "metadata": {
        "id": "-lViPPLAqt39",
        "colab": {
          "base_uri": "https://localhost:8080/"
        },
        "outputId": "0676e185-bf44-4200-87aa-341e33cad3a9"
      },
      "source": [
        "text = \"DO NOT GO GENTLE INTO THAT GOOD NIGHT\"\n",
        "x = text.isupper()\n",
        "print(x)"
      ],
      "execution_count": 1,
      "outputs": [
        {
          "output_type": "stream",
          "text": [
            "True\n"
          ],
          "name": "stdout"
        }
      ]
    },
    {
      "cell_type": "code",
      "metadata": {
        "id": "vq2vyUGsp379",
        "colab": {
          "base_uri": "https://localhost:8080/"
        },
        "outputId": "6bd66a05-6913-4572-dd8e-7c4a8a8a042b"
      },
      "source": [
        "a = \"Hello World!\"\n",
        "b = \"hello 123\"\n",
        "c = \"MY NAME IS COOPER\"\n",
        "\n",
        "print(a.isupper())\n",
        "print(b.isupper())\n",
        "print(c.isupper())"
      ],
      "execution_count": 2,
      "outputs": [
        {
          "output_type": "stream",
          "text": [
            "False\n",
            "False\n",
            "True\n"
          ],
          "name": "stdout"
        }
      ]
    },
    {
      "cell_type": "markdown",
      "metadata": {
        "id": "Zc9-i4yAq3p9"
      },
      "source": [
        "## islower()\n",
        "\n",
        "- The **islower()** method returns True if all the characters are in lower case, otherwise False.\n",
        "\n",
        "- Numbers, symbols and spaces are not checked, only alphabet characters."
      ]
    },
    {
      "cell_type": "markdown",
      "metadata": {
        "id": "eKcqOzlNrfu1"
      },
      "source": [
        "Check if all the characters in the texts are in lower case:"
      ]
    },
    {
      "cell_type": "code",
      "metadata": {
        "id": "VteQFFBSrABF",
        "colab": {
          "base_uri": "https://localhost:8080/"
        },
        "outputId": "a7bac696-62ab-4289-e57a-88cb79432f5c"
      },
      "source": [
        "text = \"mankind was born on earth ... it was never meant to die here\"\n",
        "x = text.islower()\n",
        "print(x)"
      ],
      "execution_count": 3,
      "outputs": [
        {
          "output_type": "stream",
          "text": [
            "True\n"
          ],
          "name": "stdout"
        }
      ]
    },
    {
      "cell_type": "code",
      "metadata": {
        "id": "DptXyolRrbs9",
        "colab": {
          "base_uri": "https://localhost:8080/"
        },
        "outputId": "1ca7a30b-ca2d-4bd8-e503-62fd331a9197"
      },
      "source": [
        "a = \"Hello world!\"\n",
        "b = \"hello 123\"\n",
        "c = \"mynameisCooper\"\n",
        "\n",
        "print(a.islower())\n",
        "print(b.islower())\n",
        "print(c.islower())"
      ],
      "execution_count": 4,
      "outputs": [
        {
          "output_type": "stream",
          "text": [
            "False\n",
            "True\n",
            "False\n"
          ],
          "name": "stdout"
        }
      ]
    },
    {
      "cell_type": "markdown",
      "metadata": {
        "id": "IFPLmlw0w-wZ"
      },
      "source": [
        "## lower()\n",
        "\n",
        "- The **lower()** method returns a string where all characters are lower case.\n",
        "\n",
        "- Symbols and Numbers are ignored."
      ]
    },
    {
      "cell_type": "markdown",
      "metadata": {
        "id": "gqGp5GnOxQnA"
      },
      "source": [
        "**Example**\n",
        "\n",
        "Lower case the string:"
      ]
    },
    {
      "cell_type": "code",
      "metadata": {
        "id": "HDno9fFaxTOo",
        "colab": {
          "base_uri": "https://localhost:8080/"
        },
        "outputId": "1a8edd04-2983-4090-bab6-b69fb32aa1a8"
      },
      "source": [
        "text = \"Those aren't Mountains, They're Waves\"\n",
        "\n",
        "x = text.lower()\n",
        "\n",
        "print(x)"
      ],
      "execution_count": 5,
      "outputs": [
        {
          "output_type": "stream",
          "text": [
            "those aren't mountains, they're waves\n"
          ],
          "name": "stdout"
        }
      ]
    },
    {
      "cell_type": "markdown",
      "metadata": {
        "id": "wqRL1KJWzpgt"
      },
      "source": [
        "## upper()\n",
        "\n",
        "- The **upper**() method returns a string where all characters are in upper case.\n",
        "\n",
        "- Symbols and Numbers are ignored."
      ]
    },
    {
      "cell_type": "markdown",
      "metadata": {
        "id": "fc8QnG6KzywN"
      },
      "source": [
        "**Example**\n",
        "\n",
        "Upper case the string:"
      ]
    },
    {
      "cell_type": "code",
      "metadata": {
        "id": "Xx-GWcMbzpBo",
        "colab": {
          "base_uri": "https://localhost:8080/"
        },
        "outputId": "b6724a3f-fa26-42a6-d883-0907f7285294"
      },
      "source": [
        "text = \"Those aren't mountains, they're waves\"\n",
        "\n",
        "x = text.upper()\n",
        "\n",
        "print(x)"
      ],
      "execution_count": 6,
      "outputs": [
        {
          "output_type": "stream",
          "text": [
            "THOSE AREN'T MOUNTAINS, THEY'RE WAVES\n"
          ],
          "name": "stdout"
        }
      ]
    },
    {
      "cell_type": "markdown",
      "metadata": {
        "id": "XpdBpHOR0PxG"
      },
      "source": [
        "## find()\n",
        "\n",
        "- The **find()** method finds the first occurrence of the specified value.\n",
        "\n",
        "- The **find()** method returns -1 if the value is not found."
      ]
    },
    {
      "cell_type": "markdown",
      "metadata": {
        "id": "y9PF4p3N0mwF"
      },
      "source": [
        "**Example**\n",
        "\n",
        "Where in the text is the word \"welcome\"?:"
      ]
    },
    {
      "cell_type": "code",
      "metadata": {
        "id": "ZNlm1cai0uIM",
        "colab": {
          "base_uri": "https://localhost:8080/"
        },
        "outputId": "c9bfb51c-e313-4b98-a554-1b149a7482bc"
      },
      "source": [
        "text = \"It’s not possible. No, it’s necessary.\"\n",
        "\n",
        "x = text.find(\"possible\")\n",
        "\n",
        "print(x)"
      ],
      "execution_count": 7,
      "outputs": [
        {
          "output_type": "stream",
          "text": [
            "9\n"
          ],
          "name": "stdout"
        }
      ]
    },
    {
      "cell_type": "markdown",
      "metadata": {
        "id": "gqZkIHuo00yM"
      },
      "source": [
        "## replace()\n",
        "\n",
        "The **replace**() method replaces a specified phrase with another specified phrase."
      ]
    },
    {
      "cell_type": "markdown",
      "metadata": {
        "id": "gMef2uSC1B4s"
      },
      "source": [
        "**Example**\n",
        "\n",
        "Replace all occurrence of the word \"one\":"
      ]
    },
    {
      "cell_type": "code",
      "metadata": {
        "id": "ZI1kygqF1Gf0",
        "colab": {
          "base_uri": "https://localhost:8080/"
        },
        "outputId": "a31d4a66-faef-4e6a-f0bd-a5195e90abb1"
      },
      "source": [
        "text = \"one one was a race horse, two two was one too.\"\n",
        "\n",
        "x = text.replace(\"one\", \"three\")\n",
        "\n",
        "print(x)"
      ],
      "execution_count": 8,
      "outputs": [
        {
          "output_type": "stream",
          "text": [
            "three three was a race horse, two two was three too.\n"
          ],
          "name": "stdout"
        }
      ]
    },
    {
      "cell_type": "markdown",
      "metadata": {
        "id": "C1XkpUlp2p57"
      },
      "source": [
        "More String Methods can be found here.\n",
        "\n",
        "https://www.w3schools.com/python/python_strings_methods.asp"
      ]
    },
    {
      "cell_type": "markdown",
      "metadata": {
        "id": "_olgWW4T1XN0"
      },
      "source": [
        "# Slicing Strings\n",
        "\n",
        "- You can return a range of characters by using the slice syntax.\n",
        "\n",
        "- Specify the start index and the end index, separated by a colon, to return a part of the string."
      ]
    },
    {
      "cell_type": "markdown",
      "metadata": {
        "id": "uTCwMXwz1pec"
      },
      "source": [
        "**Example**\n",
        "\n",
        "Get the characters from position 4 to position 1 (not included):"
      ]
    },
    {
      "cell_type": "code",
      "metadata": {
        "id": "oKuHsqQL1sq0",
        "colab": {
          "base_uri": "https://localhost:8080/"
        },
        "outputId": "3f6fef54-1140-4a0f-dde8-5e72b77b2b88"
      },
      "source": [
        "text = \"Our destiny lies above us\"\n",
        "print(b[4:11])"
      ],
      "execution_count": 9,
      "outputs": [
        {
          "output_type": "stream",
          "text": [
            "o 123\n"
          ],
          "name": "stdout"
        }
      ]
    },
    {
      "cell_type": "markdown",
      "metadata": {
        "id": "eXvMogIb1wXf"
      },
      "source": [
        "## Slice From the Start\n",
        "\n",
        "By leaving out the start index, the range will start at the first character:"
      ]
    },
    {
      "cell_type": "markdown",
      "metadata": {
        "id": "XLFObwos2DUj"
      },
      "source": [
        "**Example**\n",
        "\n",
        "Get the characters from the start to position 11 (not included):"
      ]
    },
    {
      "cell_type": "code",
      "metadata": {
        "id": "D2_eW6pG2L3t",
        "colab": {
          "base_uri": "https://localhost:8080/"
        },
        "outputId": "8159b560-675f-4f61-a279-f129276003b8"
      },
      "source": [
        "text = \"Our destiny lies above us\"\n",
        "print(b[:11])"
      ],
      "execution_count": 10,
      "outputs": [
        {
          "output_type": "stream",
          "text": [
            "hello 123\n"
          ],
          "name": "stdout"
        }
      ]
    },
    {
      "cell_type": "markdown",
      "metadata": {
        "id": "b2gw-xEr10tE"
      },
      "source": [
        "## Slice To the End"
      ]
    },
    {
      "cell_type": "markdown",
      "metadata": {
        "id": "5lBBsiIT2Pw8"
      },
      "source": [
        "By leaving out the end index, the range will go to the end:"
      ]
    },
    {
      "cell_type": "markdown",
      "metadata": {
        "id": "jwpDrmMa2ewE"
      },
      "source": [
        "**Example**\n",
        "\n",
        "Get the characters from position 4, and all the way to the end:"
      ]
    },
    {
      "cell_type": "code",
      "metadata": {
        "id": "q5k77UyY2mY8",
        "colab": {
          "base_uri": "https://localhost:8080/"
        },
        "outputId": "50dd5a9c-ef70-4f32-ec9a-5ca5f96ee5fe"
      },
      "source": [
        "text = \"Our destiny lies above us\"\n",
        "print(b[4:])"
      ],
      "execution_count": 11,
      "outputs": [
        {
          "output_type": "stream",
          "text": [
            "o 123\n"
          ],
          "name": "stdout"
        }
      ]
    }
  ]
}
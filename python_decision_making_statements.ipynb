{
  "nbformat": 4,
  "nbformat_minor": 0,
  "metadata": {
    "colab": {
      "name": "python_decision_making_statements.ipynb",
      "provenance": []
    },
    "kernelspec": {
      "name": "python3",
      "display_name": "Python 3"
    }
  },
  "cells": [
    {
      "cell_type": "markdown",
      "metadata": {
        "id": "jzvAq5kWBVkf"
      },
      "source": [
        "## Comparison operators\n",
        "(evaluate to either `True` or `False`)\n",
        "\n",
        "Python supports the usual logical conditions from mathematics:\n",
        "\n",
        "\n",
        "  - **`==`** (equal to)\n",
        "  - **`!=`** (not equal to)\n",
        "  - **`<`** (less than)\n",
        "  - **`<=`** (less than or equal to)\n",
        "  - **`>`** (greater than)\n",
        "  - **`>=`** (greater than or equal to)\n",
        "\n",
        "These conditions can be used in several ways, most commonly in **if statement** and loops."
      ]
    },
    {
      "cell_type": "code",
      "metadata": {
        "id": "SlDLk1x7VMIN"
      },
      "source": [
        "# Assigning some numbers to different variables\n",
        "num1 = 10\n",
        "num2 = -3\n",
        "num3 = 7\n",
        "num4 = 6\n",
        "num5 = 8"
      ],
      "execution_count": 1,
      "outputs": []
    },
    {
      "cell_type": "code",
      "metadata": {
        "id": "or6R-qpAVIAX",
        "colab": {
          "base_uri": "https://localhost:8080/"
        },
        "outputId": "03d09306-a09f-4aea-9ab5-79ff4b8d0afa"
      },
      "source": [
        "# Are these two expressions equal to each other?\n",
        "num1 + num2 == num3"
      ],
      "execution_count": 2,
      "outputs": [
        {
          "output_type": "execute_result",
          "data": {
            "text/plain": [
              "True"
            ]
          },
          "metadata": {
            "tags": []
          },
          "execution_count": 2
        }
      ]
    },
    {
      "cell_type": "code",
      "metadata": {
        "id": "7fXjaYJNVhFm",
        "colab": {
          "base_uri": "https://localhost:8080/"
        },
        "outputId": "dfc0279b-42a4-4abe-8c70-92678b6bfee3"
      },
      "source": [
        "# Are these two expressions not equal to each other?\n",
        "num3 != num4"
      ],
      "execution_count": 3,
      "outputs": [
        {
          "output_type": "execute_result",
          "data": {
            "text/plain": [
              "True"
            ]
          },
          "metadata": {
            "tags": []
          },
          "execution_count": 3
        }
      ]
    },
    {
      "cell_type": "code",
      "metadata": {
        "id": "Xp6v13vkVb6n",
        "colab": {
          "base_uri": "https://localhost:8080/"
        },
        "outputId": "60e1300c-26c2-496b-f944-b52105666b0d"
      },
      "source": [
        "# Is the first expression less than the second expression?\n",
        "num4 < num5"
      ],
      "execution_count": 4,
      "outputs": [
        {
          "output_type": "execute_result",
          "data": {
            "text/plain": [
              "True"
            ]
          },
          "metadata": {
            "tags": []
          },
          "execution_count": 4
        }
      ]
    },
    {
      "cell_type": "code",
      "metadata": {
        "id": "zojZe3o7VoeF",
        "colab": {
          "base_uri": "https://localhost:8080/"
        },
        "outputId": "57a3be5e-3f47-4e28-b483-9ef5764fbb31"
      },
      "source": [
        "# Is this expression True?\n",
        "5 > 3 > 1"
      ],
      "execution_count": 5,
      "outputs": [
        {
          "output_type": "execute_result",
          "data": {
            "text/plain": [
              "True"
            ]
          },
          "metadata": {
            "tags": []
          },
          "execution_count": 5
        }
      ]
    },
    {
      "cell_type": "code",
      "metadata": {
        "id": "ESgtjwMFVpGV",
        "colab": {
          "base_uri": "https://localhost:8080/"
        },
        "outputId": "f7810fbb-2c77-43dd-bb7d-882d5a99b5de"
      },
      "source": [
        "# Is this expression True?\n",
        "5 > 3 < 4 < 6 > 5"
      ],
      "execution_count": 6,
      "outputs": [
        {
          "output_type": "execute_result",
          "data": {
            "text/plain": [
              "True"
            ]
          },
          "metadata": {
            "tags": []
          },
          "execution_count": 6
        }
      ]
    },
    {
      "cell_type": "markdown",
      "metadata": {
        "id": "-L5lTDZEXPYd"
      },
      "source": [
        "## Logical operators\n",
        "\n",
        "Logical operators are the **and**, **or**, **not** operators."
      ]
    },
    {
      "cell_type": "markdown",
      "metadata": {
        "id": "kBjqRWf8XKsW"
      },
      "source": [
        "| Operator | Meaning                                            | Example |\n",
        "|----------|----------------------------------------------------|---------|\n",
        "| and      | True if both the operands are true                 | x and y |\n",
        "| or       | True if either of the operands is true             | x or y  |\n",
        "| not      | True if operand is false (complements the operand) | not x   |"
      ]
    },
    {
      "cell_type": "markdown",
      "metadata": {
        "id": "GZSaGxE3XsMF"
      },
      "source": [
        "### **and** operator\n",
        "\n",
        "Example: Test if a is greater than b, **and** if c is greater than a:"
      ]
    },
    {
      "cell_type": "code",
      "metadata": {
        "id": "vL6f5GWWWRqt",
        "colab": {
          "base_uri": "https://localhost:8080/"
        },
        "outputId": "78f84e1e-9b89-452f-a530-2d6f68ef5487"
      },
      "source": [
        "a = 200\n",
        "b = 33\n",
        "c = 500\n",
        "a > b and c > a"
      ],
      "execution_count": 7,
      "outputs": [
        {
          "output_type": "execute_result",
          "data": {
            "text/plain": [
              "True"
            ]
          },
          "metadata": {
            "tags": []
          },
          "execution_count": 7
        }
      ]
    },
    {
      "cell_type": "markdown",
      "metadata": {
        "id": "Scrgml9JYBmv"
      },
      "source": [
        "### **or** operator\n",
        "\n",
        "Example: Test if a is greater than b, **or** if a is greater than c:"
      ]
    },
    {
      "cell_type": "code",
      "metadata": {
        "id": "yNYX21dhYTSP",
        "colab": {
          "base_uri": "https://localhost:8080/"
        },
        "outputId": "4246f232-8d32-497f-e2da-7df555176383"
      },
      "source": [
        "a = 200\n",
        "b = 33\n",
        "c = 500\n",
        "a > b or a > c"
      ],
      "execution_count": 8,
      "outputs": [
        {
          "output_type": "execute_result",
          "data": {
            "text/plain": [
              "True"
            ]
          },
          "metadata": {
            "tags": []
          },
          "execution_count": 8
        }
      ]
    },
    {
      "cell_type": "markdown",
      "metadata": {
        "id": "BbdHpQeeY6hn"
      },
      "source": [
        "### **not** operator\n",
        "\n",
        "**Example**"
      ]
    },
    {
      "cell_type": "code",
      "metadata": {
        "colab": {
          "base_uri": "https://localhost:8080/"
        },
        "id": "zKHnaME5Y3IN",
        "outputId": "9200c43f-74f7-4310-c062-7a8de3cd8526"
      },
      "source": [
        "a = not (10 == 10)\n",
        "print(a)"
      ],
      "execution_count": 9,
      "outputs": [
        {
          "output_type": "stream",
          "text": [
            "False\n"
          ],
          "name": "stdout"
        }
      ]
    },
    {
      "cell_type": "code",
      "metadata": {
        "colab": {
          "base_uri": "https://localhost:8080/"
        },
        "id": "hcm1Zn-2ZFEN",
        "outputId": "8c3c7a3c-c478-4447-e842-15a1b9acc37a"
      },
      "source": [
        "b = not (10 != 20)\n",
        "b"
      ],
      "execution_count": 10,
      "outputs": [
        {
          "output_type": "execute_result",
          "data": {
            "text/plain": [
              "False"
            ]
          },
          "metadata": {
            "tags": []
          },
          "execution_count": 10
        }
      ]
    },
    {
      "cell_type": "markdown",
      "metadata": {
        "id": "1oo-QpIlYyvO"
      },
      "source": [
        "# Python Decision Making Statements"
      ]
    },
    {
      "cell_type": "markdown",
      "metadata": {
        "id": "e2kgYw1nCSvG"
      },
      "source": [
        "### If statement:\n",
        "\n",
        "An \"if statement\" is written by using the **if** keyword."
      ]
    },
    {
      "cell_type": "markdown",
      "metadata": {
        "id": "IP4wpBF0Clgk"
      },
      "source": [
        "Python if Statement Syntax\n",
        "\n",
        "```python\n",
        "if test_expression:\n",
        "    # statement(s)\n",
        "```\n",
        "\n"
      ]
    },
    {
      "cell_type": "markdown",
      "metadata": {
        "id": "w_D4Atl5DBAD"
      },
      "source": [
        "**Example 1: Python if Statement**"
      ]
    },
    {
      "cell_type": "code",
      "metadata": {
        "colab": {
          "base_uri": "https://localhost:8080/"
        },
        "id": "IQyX_4nFCOLn",
        "outputId": "eaa1d868-4f97-4bed-d0e9-f55dd3342d89"
      },
      "source": [
        "a = 33\n",
        "b = 200\n",
        "if b > a:\n",
        "  print(\"b is greater than a\")"
      ],
      "execution_count": 11,
      "outputs": [
        {
          "output_type": "stream",
          "text": [
            "b is greater than a\n"
          ],
          "name": "stdout"
        }
      ]
    },
    {
      "cell_type": "markdown",
      "metadata": {
        "id": "SIMGYsZeDMB1"
      },
      "source": [
        "**Example 2 : Python if Statement**"
      ]
    },
    {
      "cell_type": "code",
      "metadata": {
        "id": "N6uEsICmDIx8",
        "colab": {
          "base_uri": "https://localhost:8080/"
        },
        "outputId": "64c72fa3-bb6c-4078-f22d-7ca21d9e09a5"
      },
      "source": [
        "# If the number is positive, we print an appropriate message\n",
        "\n",
        "num = 3\n",
        "if num > 0:\n",
        "    print(num, \"is a positive number.\")\n",
        "print(\"This is always printed.\")\n",
        "\n",
        "num = -1\n",
        "if num > 0:\n",
        "    print(num, \"is a positive number.\")\n",
        "print(\"This is also always printed.\")"
      ],
      "execution_count": 12,
      "outputs": [
        {
          "output_type": "stream",
          "text": [
            "3 is a positive number.\n",
            "This is always printed.\n",
            "This is also always printed.\n"
          ],
          "name": "stdout"
        }
      ]
    },
    {
      "cell_type": "markdown",
      "metadata": {
        "id": "oV4mAy5bDvMd"
      },
      "source": [
        "### Indentation\n",
        "\n",
        "Python relies on indentation (space or tab at the beginning of a line) to define scope in the code. C programming languages use curly-brackets for this purpose."
      ]
    },
    {
      "cell_type": "markdown",
      "metadata": {
        "id": "Ojvu6J3lEKmU"
      },
      "source": [
        "**Example**\n",
        "\n",
        "If statement, without indentation (will raise an error):"
      ]
    },
    {
      "cell_type": "code",
      "metadata": {
        "id": "5AL2OtnjEPL8",
        "colab": {
          "base_uri": "https://localhost:8080/",
          "height": 128
        },
        "outputId": "86e012cc-a1c4-4942-c50c-128688e6218c"
      },
      "source": [
        "a = 33\n",
        "b = 200\n",
        "if b > a:\n",
        "print(\"b is greater than a\") # you will get an error"
      ],
      "execution_count": 13,
      "outputs": [
        {
          "output_type": "error",
          "ename": "IndentationError",
          "evalue": "ignored",
          "traceback": [
            "\u001b[0;36m  File \u001b[0;32m\"<ipython-input-13-4276c1871af7>\"\u001b[0;36m, line \u001b[0;32m4\u001b[0m\n\u001b[0;31m    print(\"b is greater than a\") # you will get an error\u001b[0m\n\u001b[0m        ^\u001b[0m\n\u001b[0;31mIndentationError\u001b[0m\u001b[0;31m:\u001b[0m expected an indented block\n"
          ]
        }
      ]
    },
    {
      "cell_type": "markdown",
      "metadata": {
        "id": "J13tfuLGEaKN"
      },
      "source": [
        "### if...else statement"
      ]
    },
    {
      "cell_type": "markdown",
      "metadata": {
        "id": "mnIkFkekEqYK"
      },
      "source": [
        "Syntax of if...else\n",
        "\n",
        "```python\n",
        "if test_expression:\n",
        "    # Body of if\n",
        "else:\n",
        "    # Body of else\n",
        "```\n",
        "\n"
      ]
    },
    {
      "cell_type": "markdown",
      "metadata": {
        "id": "UgxcPJqsE5I9"
      },
      "source": [
        "**Example of if...else**"
      ]
    },
    {
      "cell_type": "code",
      "metadata": {
        "id": "HyH7AjowE3zO",
        "colab": {
          "base_uri": "https://localhost:8080/"
        },
        "outputId": "bac1749e-296c-4661-9179-7b99baa1b0a0"
      },
      "source": [
        "# Program checks if the number is positive or negative\n",
        "# And displays an appropriate message\n",
        "\n",
        "num = 3\n",
        "\n",
        "# Try these two variations as well. \n",
        "# num = -5\n",
        "# num = 0\n",
        "\n",
        "if num >= 0:\n",
        "    print(\"Positive or Zero\")\n",
        "else:\n",
        "    print(\"Negative number\")"
      ],
      "execution_count": 14,
      "outputs": [
        {
          "output_type": "stream",
          "text": [
            "Positive or Zero\n"
          ],
          "name": "stdout"
        }
      ]
    },
    {
      "cell_type": "markdown",
      "metadata": {
        "id": "AoONktpXFqh9"
      },
      "source": [
        "### Python if...elif...else Statement"
      ]
    },
    {
      "cell_type": "markdown",
      "metadata": {
        "id": "kcdhwzDJFyJd"
      },
      "source": [
        "**Syntax of if...elif...else**\n",
        "\n",
        "\n",
        "\n",
        "```python\n",
        "if test_expression_1:\n",
        "    # Body of if\n",
        "elif test_expression_2:\n",
        "    # Body of elif\n",
        "elif test_expression_3:\n",
        "    # Body of elif\n",
        "else: \n",
        "    # Body of else\n",
        "```\n",
        "\n"
      ]
    },
    {
      "cell_type": "markdown",
      "metadata": {
        "id": "Kf2_lMcAGU2-"
      },
      "source": [
        "**Example of if...elif...else**\n",
        "\n",
        "In this program, we check if the number is positive or negative or zero and  display an appropriate message."
      ]
    },
    {
      "cell_type": "code",
      "metadata": {
        "id": "ToNeDdbXGWA2",
        "colab": {
          "base_uri": "https://localhost:8080/"
        },
        "outputId": "53f09aca-b522-4bf1-e9c0-18a3953bec23"
      },
      "source": [
        "num = 3\n",
        "\n",
        "# Try these two variations as well:\n",
        "# num = 0\n",
        "# num = -4\n",
        "\n",
        "if num > 0:\n",
        "    print(\"Positive number\")\n",
        "elif num == 0:\n",
        "    print(\"Zero\")\n",
        "else:\n",
        "    print(\"Negative number\")"
      ],
      "execution_count": 15,
      "outputs": [
        {
          "output_type": "stream",
          "text": [
            "Positive number\n"
          ],
          "name": "stdout"
        }
      ]
    },
    {
      "cell_type": "markdown",
      "metadata": {
        "id": "lN7SevbhGodt"
      },
      "source": [
        "### Python Nested if statements\n",
        "\n",
        "We can have a **if...elif...else** statement inside another **if...elif...else** statement. This is called nesting in computer programming."
      ]
    },
    {
      "cell_type": "markdown",
      "metadata": {
        "id": "B1q_coe6G281"
      },
      "source": [
        "**Python Nested if Example**\n",
        "\n",
        "In this program, we input a number check if the number is positive or negative or zero and display an appropriate message. This time we use **nested if statement**"
      ]
    },
    {
      "cell_type": "code",
      "metadata": {
        "id": "Hfkhgui6GzuD",
        "colab": {
          "base_uri": "https://localhost:8080/"
        },
        "outputId": "4d8eec25-0d87-4434-948d-d4f15b564107"
      },
      "source": [
        "num = 1\n",
        "# Try these two variations as well:\n",
        "# num = 0\n",
        "# num = -4\n",
        "\n",
        "if num >= 0:\n",
        "    if num == 0:\n",
        "        print(\"Zero\")\n",
        "    else:\n",
        "        print(\"Positive number\")\n",
        "else:\n",
        "    print(\"Negative number\")"
      ],
      "execution_count": 16,
      "outputs": [
        {
          "output_type": "stream",
          "text": [
            "Positive number\n"
          ],
          "name": "stdout"
        }
      ]
    },
    {
      "cell_type": "markdown",
      "metadata": {
        "id": "ZPH2ZmFIZj7W"
      },
      "source": [
        "# Practice\n",
        "\n",
        "1. Write a program that input an integer number and check whether the number is\n",
        "divisible by both 3 and 8 or not.\n",
        "\n",
        "2. Write a program to input weekday number and print weekday name. Assume that, week starts with Saturday for this problem."
      ]
    },
    {
      "cell_type": "markdown",
      "metadata": {
        "id": "1XQGsz-loEkD"
      },
      "source": [
        "# Task"
      ]
    },
    {
      "cell_type": "markdown",
      "metadata": {
        "id": "VtaQw1WIoGUb"
      },
      "source": [
        "Write a program to input a subject mark percentage as integer and find the letter grade according to AUW grading policy.\n",
        "\n",
        "**AUW Grading Policy:**\n",
        "\n",
        "```\n",
        "Percentage >= 97: A+\n",
        "Percentage >= 93: A\n",
        "Percentage >= 90: A-\n",
        "Percentage >= 87: B+\n",
        "Percentage >= 83: B\n",
        "Percentage >= 80: B-\n",
        "Percentage >= 77: C+\n",
        "Percentage >= 73: C\n",
        "Percentage >= 70: C-\n",
        "Percentage >= 67: D+\n",
        "Percentage >= 60: D\n",
        "Percentage < 60: F\n",
        "```\n",
        "\n"
      ]
    }
  ]
}